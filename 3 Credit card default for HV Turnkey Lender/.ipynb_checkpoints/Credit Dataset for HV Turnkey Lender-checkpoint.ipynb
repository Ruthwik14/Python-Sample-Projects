{
 "cells": [
  {
   "cell_type": "markdown",
   "id": "48a55fb3",
   "metadata": {},
   "source": [
    "# TURNKEY LENDER CREDIT CARD DEFAULTS"
   ]
  },
  {
   "cell_type": "markdown",
   "id": "1fdade70",
   "metadata": {},
   "source": [
    "----------------------------------------------------------------------------------------------------"
   ]
  },
  {
   "cell_type": "markdown",
   "id": "750df3c1",
   "metadata": {},
   "source": [
    "## 1) Introduction"
   ]
  },
  {
   "cell_type": "markdown",
   "id": "02d25502",
   "metadata": {},
   "source": [
    "Welcome to the Default of Credit Card Dataset Prediction Notebook! This comprehensive dataset provides information about default payments of credit card clients in TurnKey Lender. The idea is to use this dataset to improve basic skills of data cleaning, data analysis and data visualization."
   ]
  },
  {
   "cell_type": "markdown",
   "id": "b03537ba",
   "metadata": {},
   "source": [
    "## 2) Business Objectives"
   ]
  },
  {
   "cell_type": "markdown",
   "id": "53b571c9",
   "metadata": {},
   "source": [
    "The objective of this project is to identify factors that contribute to credit card defaults, which can help the credit card company to reduce losses, mitigate risks, and improve customer satisfaction. By gaining insights into the data and understanding the relationships between variables, the credit card company can make informed decisions to improve its business operations, marketing efforts, and customer targeting."
   ]
  },
  {
   "cell_type": "markdown",
   "id": "6adfbac9",
   "metadata": {},
   "source": [
    "## 3)  About Dataset"
   ]
  },
  {
   "cell_type": "markdown",
   "id": "3b8dfa4f",
   "metadata": {},
   "source": [
    "This dataset contains information on default payments, demographic factors, credit data, history of payment, and bill statements of credit card clients from April 2005 to September 2005."
   ]
  },
  {
   "cell_type": "markdown",
   "id": "f8419ec6",
   "metadata": {},
   "source": [
    "### Variables\n",
    "\n",
    "ID: ID of each client.\n",
    "\n",
    "AMT: Amount of given credit in dollars (includes individual and family/supplementary credit.\n",
    "\n",
    "GENDER: Gender (1=male, 2=female).\n",
    "\n",
    "EDUCATION: (1=graduate school, 2=university, 3=high school, 4=others, 5=unknown).\n",
    "\n",
    "MARITAL STATUS: Marital status (1=married, 2=single, 3=others).\n",
    "\n",
    "AGE: Age in years.\n",
    "\n",
    "REPAY_SEP: Repayment status in September, 2005 (0=pay duly, 1=payment delay for one month, 2=payment delay for two months, … 8=payment delay for eight months, 9=payment delay for nine months and above).\n",
    "\n",
    "REPAY_AUG: Repayment status in August, 2005 (scale same as above).\n",
    "\n",
    "REPAY_JUL: Repayment status in July, 2005 (scale same as above).\n",
    "\n",
    "REPAY_JUN: Repayment status in June, 2005 (scale same as above).\n",
    "\n",
    "REPAY_MAY: Repayment status in May, 2005 (scale same as above).\n",
    "\n",
    "REPAY_APR: Repayment status in April, 2005 (scale same as above).\n",
    "\n",
    "AMTBILL_SEP: Amount of bill statement in September, 2005.\n",
    "\n",
    "AMTBILL_AUG: Amount of bill statement in August, 2005.\n",
    "\n",
    "AMTBILL_JUL: Amount of bill statement in July, 2005.\n",
    "\n",
    "AMTBILL_JUN: Amount of bill statement in June, 2005.\n",
    "\n",
    "AMTBILL_MAY: Amount of bill statement in May, 2005.\n",
    "\n",
    "AMTBILL_APR: Amount of bill statement in April, 2005.\n",
    "\n",
    "PRE_SEP: Amount of previous payment in September, 2005.\n",
    "\n",
    "PRE_AUG: Amount of previous payment in August, 2005.\n",
    "\n",
    "PRE_JUL: Amount of previous payment in July, 2005.\n",
    "\n",
    "PRE_JUN: Amount of previous payment in June, 2005.\n",
    "\n",
    "PRE_MAY: Amount of previous payment in May, 2005.\n",
    "\n",
    "PRE_APR: Amount of previous payment in April, 2005.\n",
    "\n",
    "DEF_AMT: Default payment (1=yes, 0=no)."
   ]
  },
  {
   "cell_type": "markdown",
   "id": "b35c7943",
   "metadata": {},
   "source": [
    "## 4) importing all important package...."
   ]
  },
  {
   "cell_type": "code",
   "execution_count": 1,
   "id": "046a905a",
   "metadata": {},
   "outputs": [],
   "source": [
    "import numpy as np\n",
    "import pandas as pd\n",
    "import seaborn as sns\n",
    "import matplotlib.pyplot as plt"
   ]
  },
  {
   "cell_type": "code",
   "execution_count": 2,
   "id": "f471f56d",
   "metadata": {
    "scrolled": true
   },
   "outputs": [
    {
     "data": {
      "text/html": [
       "<div>\n",
       "<style scoped>\n",
       "    .dataframe tbody tr th:only-of-type {\n",
       "        vertical-align: middle;\n",
       "    }\n",
       "\n",
       "    .dataframe tbody tr th {\n",
       "        vertical-align: top;\n",
       "    }\n",
       "\n",
       "    .dataframe thead th {\n",
       "        text-align: right;\n",
       "    }\n",
       "</style>\n",
       "<table border=\"1\" class=\"dataframe\">\n",
       "  <thead>\n",
       "    <tr style=\"text-align: right;\">\n",
       "      <th></th>\n",
       "      <th>ID</th>\n",
       "      <th>AMT</th>\n",
       "      <th>GENDER</th>\n",
       "      <th>EDUCATION</th>\n",
       "      <th>MARITAL STATUS</th>\n",
       "      <th>AGE</th>\n",
       "      <th>REPAY_SEP</th>\n",
       "      <th>REPAY_AUG</th>\n",
       "      <th>REPAY_JUL</th>\n",
       "      <th>REPAY_JUN</th>\n",
       "      <th>...</th>\n",
       "      <th>AMTBILL_JUN</th>\n",
       "      <th>AMTBILL_MAY</th>\n",
       "      <th>AMTBILL_APR</th>\n",
       "      <th>PRE_SEP</th>\n",
       "      <th>PRE_AUG</th>\n",
       "      <th>PRE_JUL</th>\n",
       "      <th>PRE_JUN</th>\n",
       "      <th>PRE_MAY</th>\n",
       "      <th>PRE_APR</th>\n",
       "      <th>DEF_AMT</th>\n",
       "    </tr>\n",
       "  </thead>\n",
       "  <tbody>\n",
       "    <tr>\n",
       "      <th>0</th>\n",
       "      <td>1</td>\n",
       "      <td>20000.0</td>\n",
       "      <td>2</td>\n",
       "      <td>2.0</td>\n",
       "      <td>1</td>\n",
       "      <td>24</td>\n",
       "      <td>2</td>\n",
       "      <td>2</td>\n",
       "      <td>0</td>\n",
       "      <td>0</td>\n",
       "      <td>...</td>\n",
       "      <td>0.0</td>\n",
       "      <td>0.0</td>\n",
       "      <td>0.0</td>\n",
       "      <td>0.0</td>\n",
       "      <td>689.0</td>\n",
       "      <td>0.0</td>\n",
       "      <td>0.0</td>\n",
       "      <td>0.0</td>\n",
       "      <td>0.0</td>\n",
       "      <td>1</td>\n",
       "    </tr>\n",
       "    <tr>\n",
       "      <th>1</th>\n",
       "      <td>2</td>\n",
       "      <td>120000.0</td>\n",
       "      <td>2</td>\n",
       "      <td>2.0</td>\n",
       "      <td>2</td>\n",
       "      <td>26</td>\n",
       "      <td>0</td>\n",
       "      <td>2</td>\n",
       "      <td>0</td>\n",
       "      <td>0</td>\n",
       "      <td>...</td>\n",
       "      <td>3272.0</td>\n",
       "      <td>3455.0</td>\n",
       "      <td>3261.0</td>\n",
       "      <td>0.0</td>\n",
       "      <td>1000.0</td>\n",
       "      <td>1000.0</td>\n",
       "      <td>1000.0</td>\n",
       "      <td>0.0</td>\n",
       "      <td>2000.0</td>\n",
       "      <td>1</td>\n",
       "    </tr>\n",
       "    <tr>\n",
       "      <th>2</th>\n",
       "      <td>3</td>\n",
       "      <td>90000.0</td>\n",
       "      <td>2</td>\n",
       "      <td>2.0</td>\n",
       "      <td>2</td>\n",
       "      <td>34</td>\n",
       "      <td>0</td>\n",
       "      <td>0</td>\n",
       "      <td>0</td>\n",
       "      <td>0</td>\n",
       "      <td>...</td>\n",
       "      <td>14331.0</td>\n",
       "      <td>14948.0</td>\n",
       "      <td>15549.0</td>\n",
       "      <td>1518.0</td>\n",
       "      <td>1500.0</td>\n",
       "      <td>1000.0</td>\n",
       "      <td>1000.0</td>\n",
       "      <td>1000.0</td>\n",
       "      <td>5000.0</td>\n",
       "      <td>0</td>\n",
       "    </tr>\n",
       "    <tr>\n",
       "      <th>3</th>\n",
       "      <td>4</td>\n",
       "      <td>50000.0</td>\n",
       "      <td>2</td>\n",
       "      <td>2.0</td>\n",
       "      <td>1</td>\n",
       "      <td>37</td>\n",
       "      <td>0</td>\n",
       "      <td>0</td>\n",
       "      <td>0</td>\n",
       "      <td>0</td>\n",
       "      <td>...</td>\n",
       "      <td>28314.0</td>\n",
       "      <td>28959.0</td>\n",
       "      <td>29547.0</td>\n",
       "      <td>2000.0</td>\n",
       "      <td>2019.0</td>\n",
       "      <td>1200.0</td>\n",
       "      <td>1100.0</td>\n",
       "      <td>1069.0</td>\n",
       "      <td>1000.0</td>\n",
       "      <td>0</td>\n",
       "    </tr>\n",
       "    <tr>\n",
       "      <th>4</th>\n",
       "      <td>5</td>\n",
       "      <td>50000.0</td>\n",
       "      <td>1</td>\n",
       "      <td>2.0</td>\n",
       "      <td>1</td>\n",
       "      <td>57</td>\n",
       "      <td>0</td>\n",
       "      <td>0</td>\n",
       "      <td>0</td>\n",
       "      <td>0</td>\n",
       "      <td>...</td>\n",
       "      <td>20940.0</td>\n",
       "      <td>19146.0</td>\n",
       "      <td>19131.0</td>\n",
       "      <td>2000.0</td>\n",
       "      <td>36681.0</td>\n",
       "      <td>10000.0</td>\n",
       "      <td>9000.0</td>\n",
       "      <td>689.0</td>\n",
       "      <td>679.0</td>\n",
       "      <td>0</td>\n",
       "    </tr>\n",
       "  </tbody>\n",
       "</table>\n",
       "<p>5 rows × 25 columns</p>\n",
       "</div>"
      ],
      "text/plain": [
       "   ID       AMT  GENDER  EDUCATION  MARITAL STATUS  AGE  REPAY_SEP  REPAY_AUG  \\\n",
       "0   1   20000.0       2        2.0               1   24          2          2   \n",
       "1   2  120000.0       2        2.0               2   26          0          2   \n",
       "2   3   90000.0       2        2.0               2   34          0          0   \n",
       "3   4   50000.0       2        2.0               1   37          0          0   \n",
       "4   5   50000.0       1        2.0               1   57          0          0   \n",
       "\n",
       "   REPAY_JUL  REPAY_JUN  ...  AMTBILL_JUN  AMTBILL_MAY  AMTBILL_APR  PRE_SEP  \\\n",
       "0          0          0  ...          0.0          0.0          0.0      0.0   \n",
       "1          0          0  ...       3272.0       3455.0       3261.0      0.0   \n",
       "2          0          0  ...      14331.0      14948.0      15549.0   1518.0   \n",
       "3          0          0  ...      28314.0      28959.0      29547.0   2000.0   \n",
       "4          0          0  ...      20940.0      19146.0      19131.0   2000.0   \n",
       "\n",
       "   PRE_AUG  PRE_JUL  PRE_JUN  PRE_MAY  PRE_APR  DEF_AMT  \n",
       "0    689.0      0.0      0.0      0.0      0.0        1  \n",
       "1   1000.0   1000.0   1000.0      0.0   2000.0        1  \n",
       "2   1500.0   1000.0   1000.0   1000.0   5000.0        0  \n",
       "3   2019.0   1200.0   1100.0   1069.0   1000.0        0  \n",
       "4  36681.0  10000.0   9000.0    689.0    679.0        0  \n",
       "\n",
       "[5 rows x 25 columns]"
      ]
     },
     "execution_count": 2,
     "metadata": {},
     "output_type": "execute_result"
    }
   ],
   "source": [
    "#load data into pandas dataframe..\n",
    "df = pd.read_csv(\"Credit Dataset for HV Turnkey Lender.csv\")\n",
    "df.head()"
   ]
  },
  {
   "cell_type": "markdown",
   "id": "59fd8af9",
   "metadata": {},
   "source": [
    "## 5) Data Exploration"
   ]
  },
  {
   "cell_type": "code",
   "execution_count": 3,
   "id": "729db689",
   "metadata": {
    "scrolled": true
   },
   "outputs": [
    {
     "name": "stdout",
     "output_type": "stream",
     "text": [
      "<class 'pandas.core.frame.DataFrame'>\n",
      "RangeIndex: 30000 entries, 0 to 29999\n",
      "Data columns (total 25 columns):\n",
      " #   Column          Non-Null Count  Dtype  \n",
      "---  ------          --------------  -----  \n",
      " 0   ID              30000 non-null  int64  \n",
      " 1   AMT             30000 non-null  float64\n",
      " 2   GENDER          30000 non-null  int64  \n",
      " 3   EDUCATION       29986 non-null  float64\n",
      " 4   MARITAL STATUS  30000 non-null  int64  \n",
      " 5   AGE             30000 non-null  int64  \n",
      " 6   REPAY_SEP       30000 non-null  int64  \n",
      " 7   REPAY_AUG       30000 non-null  int64  \n",
      " 8   REPAY_JUL       30000 non-null  int64  \n",
      " 9   REPAY_JUN       30000 non-null  int64  \n",
      " 10  REPAY_MAY       30000 non-null  int64  \n",
      " 11  REPAY_APR       30000 non-null  int64  \n",
      " 12  AMTBILL_SEP     30000 non-null  float64\n",
      " 13  AMTBILL_AUG     30000 non-null  float64\n",
      " 14  AMTBILL_JUL     30000 non-null  float64\n",
      " 15  AMTBILL_JUN     30000 non-null  float64\n",
      " 16  AMTBILL_MAY     30000 non-null  float64\n",
      " 17  AMTBILL_APR     30000 non-null  float64\n",
      " 18  PRE_SEP         30000 non-null  float64\n",
      " 19  PRE_AUG         30000 non-null  float64\n",
      " 20  PRE_JUL         30000 non-null  float64\n",
      " 21  PRE_JUN         30000 non-null  float64\n",
      " 22  PRE_MAY         30000 non-null  float64\n",
      " 23  PRE_APR         30000 non-null  float64\n",
      " 24  DEF_AMT         30000 non-null  int64  \n",
      "dtypes: float64(14), int64(11)\n",
      "memory usage: 5.7 MB\n"
     ]
    }
   ],
   "source": [
    "#information of dataset..\n",
    "df.info()"
   ]
  },
  {
   "cell_type": "markdown",
   "id": "fb03cc73",
   "metadata": {},
   "source": [
    "There were missing values in the education column data that need to be further processed.                    "
   ]
  },
  {
   "cell_type": "code",
   "execution_count": 4,
   "id": "b393e325",
   "metadata": {
    "scrolled": true
   },
   "outputs": [
    {
     "data": {
      "text/html": [
       "<div>\n",
       "<style scoped>\n",
       "    .dataframe tbody tr th:only-of-type {\n",
       "        vertical-align: middle;\n",
       "    }\n",
       "\n",
       "    .dataframe tbody tr th {\n",
       "        vertical-align: top;\n",
       "    }\n",
       "\n",
       "    .dataframe thead th {\n",
       "        text-align: right;\n",
       "    }\n",
       "</style>\n",
       "<table border=\"1\" class=\"dataframe\">\n",
       "  <thead>\n",
       "    <tr style=\"text-align: right;\">\n",
       "      <th></th>\n",
       "      <th>ID</th>\n",
       "      <th>AMT</th>\n",
       "      <th>GENDER</th>\n",
       "      <th>EDUCATION</th>\n",
       "      <th>MARITAL STATUS</th>\n",
       "      <th>AGE</th>\n",
       "      <th>REPAY_SEP</th>\n",
       "      <th>REPAY_AUG</th>\n",
       "      <th>REPAY_JUL</th>\n",
       "      <th>REPAY_JUN</th>\n",
       "      <th>...</th>\n",
       "      <th>AMTBILL_JUN</th>\n",
       "      <th>AMTBILL_MAY</th>\n",
       "      <th>AMTBILL_APR</th>\n",
       "      <th>PRE_SEP</th>\n",
       "      <th>PRE_AUG</th>\n",
       "      <th>PRE_JUL</th>\n",
       "      <th>PRE_JUN</th>\n",
       "      <th>PRE_MAY</th>\n",
       "      <th>PRE_APR</th>\n",
       "      <th>DEF_AMT</th>\n",
       "    </tr>\n",
       "  </thead>\n",
       "  <tbody>\n",
       "    <tr>\n",
       "      <th>count</th>\n",
       "      <td>30000.000000</td>\n",
       "      <td>30000.000000</td>\n",
       "      <td>30000.000000</td>\n",
       "      <td>29986.000000</td>\n",
       "      <td>30000.000000</td>\n",
       "      <td>30000.000000</td>\n",
       "      <td>30000.000000</td>\n",
       "      <td>30000.000000</td>\n",
       "      <td>30000.000000</td>\n",
       "      <td>30000.000000</td>\n",
       "      <td>...</td>\n",
       "      <td>30000.000000</td>\n",
       "      <td>30000.000000</td>\n",
       "      <td>30000.000000</td>\n",
       "      <td>30000.000000</td>\n",
       "      <td>3.000000e+04</td>\n",
       "      <td>30000.00000</td>\n",
       "      <td>30000.000000</td>\n",
       "      <td>30000.000000</td>\n",
       "      <td>30000.000000</td>\n",
       "      <td>30000.000000</td>\n",
       "    </tr>\n",
       "    <tr>\n",
       "      <th>mean</th>\n",
       "      <td>15000.500000</td>\n",
       "      <td>167484.322667</td>\n",
       "      <td>1.603733</td>\n",
       "      <td>1.852298</td>\n",
       "      <td>1.555567</td>\n",
       "      <td>35.485500</td>\n",
       "      <td>0.356767</td>\n",
       "      <td>0.320033</td>\n",
       "      <td>0.304067</td>\n",
       "      <td>0.258767</td>\n",
       "      <td>...</td>\n",
       "      <td>43287.066733</td>\n",
       "      <td>40327.549367</td>\n",
       "      <td>38907.530300</td>\n",
       "      <td>5663.580500</td>\n",
       "      <td>5.921163e+03</td>\n",
       "      <td>5225.68150</td>\n",
       "      <td>4826.076867</td>\n",
       "      <td>4799.387633</td>\n",
       "      <td>5215.502567</td>\n",
       "      <td>0.221200</td>\n",
       "    </tr>\n",
       "    <tr>\n",
       "      <th>std</th>\n",
       "      <td>8660.398374</td>\n",
       "      <td>129747.661567</td>\n",
       "      <td>0.489129</td>\n",
       "      <td>0.781622</td>\n",
       "      <td>0.518833</td>\n",
       "      <td>9.217904</td>\n",
       "      <td>0.760594</td>\n",
       "      <td>0.801727</td>\n",
       "      <td>0.790589</td>\n",
       "      <td>0.761113</td>\n",
       "      <td>...</td>\n",
       "      <td>64309.431029</td>\n",
       "      <td>60785.288413</td>\n",
       "      <td>59511.193927</td>\n",
       "      <td>16563.280354</td>\n",
       "      <td>2.304087e+04</td>\n",
       "      <td>17606.96147</td>\n",
       "      <td>15666.159744</td>\n",
       "      <td>15278.305679</td>\n",
       "      <td>17777.465775</td>\n",
       "      <td>0.415062</td>\n",
       "    </tr>\n",
       "    <tr>\n",
       "      <th>min</th>\n",
       "      <td>1.000000</td>\n",
       "      <td>10000.000000</td>\n",
       "      <td>1.000000</td>\n",
       "      <td>1.000000</td>\n",
       "      <td>1.000000</td>\n",
       "      <td>21.000000</td>\n",
       "      <td>0.000000</td>\n",
       "      <td>0.000000</td>\n",
       "      <td>0.000000</td>\n",
       "      <td>0.000000</td>\n",
       "      <td>...</td>\n",
       "      <td>-81334.000000</td>\n",
       "      <td>-81334.000000</td>\n",
       "      <td>-339603.000000</td>\n",
       "      <td>0.000000</td>\n",
       "      <td>0.000000e+00</td>\n",
       "      <td>0.00000</td>\n",
       "      <td>0.000000</td>\n",
       "      <td>0.000000</td>\n",
       "      <td>0.000000</td>\n",
       "      <td>0.000000</td>\n",
       "    </tr>\n",
       "    <tr>\n",
       "      <th>25%</th>\n",
       "      <td>7500.750000</td>\n",
       "      <td>50000.000000</td>\n",
       "      <td>1.000000</td>\n",
       "      <td>1.000000</td>\n",
       "      <td>1.000000</td>\n",
       "      <td>28.000000</td>\n",
       "      <td>0.000000</td>\n",
       "      <td>0.000000</td>\n",
       "      <td>0.000000</td>\n",
       "      <td>0.000000</td>\n",
       "      <td>...</td>\n",
       "      <td>2337.000000</td>\n",
       "      <td>1769.500000</td>\n",
       "      <td>1261.000000</td>\n",
       "      <td>1000.000000</td>\n",
       "      <td>8.330000e+02</td>\n",
       "      <td>390.00000</td>\n",
       "      <td>296.000000</td>\n",
       "      <td>252.500000</td>\n",
       "      <td>117.750000</td>\n",
       "      <td>0.000000</td>\n",
       "    </tr>\n",
       "    <tr>\n",
       "      <th>50%</th>\n",
       "      <td>15000.500000</td>\n",
       "      <td>140000.000000</td>\n",
       "      <td>2.000000</td>\n",
       "      <td>2.000000</td>\n",
       "      <td>2.000000</td>\n",
       "      <td>34.000000</td>\n",
       "      <td>0.000000</td>\n",
       "      <td>0.000000</td>\n",
       "      <td>0.000000</td>\n",
       "      <td>0.000000</td>\n",
       "      <td>...</td>\n",
       "      <td>19052.000000</td>\n",
       "      <td>18104.500000</td>\n",
       "      <td>17075.500000</td>\n",
       "      <td>2100.000000</td>\n",
       "      <td>2.009000e+03</td>\n",
       "      <td>1800.00000</td>\n",
       "      <td>1500.000000</td>\n",
       "      <td>1500.000000</td>\n",
       "      <td>1500.000000</td>\n",
       "      <td>0.000000</td>\n",
       "    </tr>\n",
       "    <tr>\n",
       "      <th>75%</th>\n",
       "      <td>22500.250000</td>\n",
       "      <td>240000.000000</td>\n",
       "      <td>2.000000</td>\n",
       "      <td>2.000000</td>\n",
       "      <td>2.000000</td>\n",
       "      <td>41.000000</td>\n",
       "      <td>0.000000</td>\n",
       "      <td>0.000000</td>\n",
       "      <td>0.000000</td>\n",
       "      <td>0.000000</td>\n",
       "      <td>...</td>\n",
       "      <td>54519.000000</td>\n",
       "      <td>50190.500000</td>\n",
       "      <td>49205.250000</td>\n",
       "      <td>5006.000000</td>\n",
       "      <td>5.000000e+03</td>\n",
       "      <td>4505.00000</td>\n",
       "      <td>4013.250000</td>\n",
       "      <td>4031.500000</td>\n",
       "      <td>4000.000000</td>\n",
       "      <td>0.000000</td>\n",
       "    </tr>\n",
       "    <tr>\n",
       "      <th>max</th>\n",
       "      <td>30000.000000</td>\n",
       "      <td>1000000.000000</td>\n",
       "      <td>2.000000</td>\n",
       "      <td>5.000000</td>\n",
       "      <td>3.000000</td>\n",
       "      <td>79.000000</td>\n",
       "      <td>8.000000</td>\n",
       "      <td>8.000000</td>\n",
       "      <td>8.000000</td>\n",
       "      <td>8.000000</td>\n",
       "      <td>...</td>\n",
       "      <td>891586.000000</td>\n",
       "      <td>927171.000000</td>\n",
       "      <td>961664.000000</td>\n",
       "      <td>873552.000000</td>\n",
       "      <td>1.684259e+06</td>\n",
       "      <td>896040.00000</td>\n",
       "      <td>621000.000000</td>\n",
       "      <td>426529.000000</td>\n",
       "      <td>528666.000000</td>\n",
       "      <td>1.000000</td>\n",
       "    </tr>\n",
       "  </tbody>\n",
       "</table>\n",
       "<p>8 rows × 25 columns</p>\n",
       "</div>"
      ],
      "text/plain": [
       "                 ID             AMT        GENDER     EDUCATION  \\\n",
       "count  30000.000000    30000.000000  30000.000000  29986.000000   \n",
       "mean   15000.500000   167484.322667      1.603733      1.852298   \n",
       "std     8660.398374   129747.661567      0.489129      0.781622   \n",
       "min        1.000000    10000.000000      1.000000      1.000000   \n",
       "25%     7500.750000    50000.000000      1.000000      1.000000   \n",
       "50%    15000.500000   140000.000000      2.000000      2.000000   \n",
       "75%    22500.250000   240000.000000      2.000000      2.000000   \n",
       "max    30000.000000  1000000.000000      2.000000      5.000000   \n",
       "\n",
       "       MARITAL STATUS           AGE     REPAY_SEP     REPAY_AUG     REPAY_JUL  \\\n",
       "count    30000.000000  30000.000000  30000.000000  30000.000000  30000.000000   \n",
       "mean         1.555567     35.485500      0.356767      0.320033      0.304067   \n",
       "std          0.518833      9.217904      0.760594      0.801727      0.790589   \n",
       "min          1.000000     21.000000      0.000000      0.000000      0.000000   \n",
       "25%          1.000000     28.000000      0.000000      0.000000      0.000000   \n",
       "50%          2.000000     34.000000      0.000000      0.000000      0.000000   \n",
       "75%          2.000000     41.000000      0.000000      0.000000      0.000000   \n",
       "max          3.000000     79.000000      8.000000      8.000000      8.000000   \n",
       "\n",
       "          REPAY_JUN  ...    AMTBILL_JUN    AMTBILL_MAY    AMTBILL_APR  \\\n",
       "count  30000.000000  ...   30000.000000   30000.000000   30000.000000   \n",
       "mean       0.258767  ...   43287.066733   40327.549367   38907.530300   \n",
       "std        0.761113  ...   64309.431029   60785.288413   59511.193927   \n",
       "min        0.000000  ...  -81334.000000  -81334.000000 -339603.000000   \n",
       "25%        0.000000  ...    2337.000000    1769.500000    1261.000000   \n",
       "50%        0.000000  ...   19052.000000   18104.500000   17075.500000   \n",
       "75%        0.000000  ...   54519.000000   50190.500000   49205.250000   \n",
       "max        8.000000  ...  891586.000000  927171.000000  961664.000000   \n",
       "\n",
       "             PRE_SEP       PRE_AUG       PRE_JUL        PRE_JUN  \\\n",
       "count   30000.000000  3.000000e+04   30000.00000   30000.000000   \n",
       "mean     5663.580500  5.921163e+03    5225.68150    4826.076867   \n",
       "std     16563.280354  2.304087e+04   17606.96147   15666.159744   \n",
       "min         0.000000  0.000000e+00       0.00000       0.000000   \n",
       "25%      1000.000000  8.330000e+02     390.00000     296.000000   \n",
       "50%      2100.000000  2.009000e+03    1800.00000    1500.000000   \n",
       "75%      5006.000000  5.000000e+03    4505.00000    4013.250000   \n",
       "max    873552.000000  1.684259e+06  896040.00000  621000.000000   \n",
       "\n",
       "             PRE_MAY        PRE_APR       DEF_AMT  \n",
       "count   30000.000000   30000.000000  30000.000000  \n",
       "mean     4799.387633    5215.502567      0.221200  \n",
       "std     15278.305679   17777.465775      0.415062  \n",
       "min         0.000000       0.000000      0.000000  \n",
       "25%       252.500000     117.750000      0.000000  \n",
       "50%      1500.000000    1500.000000      0.000000  \n",
       "75%      4031.500000    4000.000000      0.000000  \n",
       "max    426529.000000  528666.000000      1.000000  \n",
       "\n",
       "[8 rows x 25 columns]"
      ]
     },
     "execution_count": 4,
     "metadata": {},
     "output_type": "execute_result"
    }
   ],
   "source": [
    "#calculate these statistics\n",
    "df.describe()"
   ]
  },
  {
   "cell_type": "code",
   "execution_count": 5,
   "id": "42189ca4",
   "metadata": {
    "scrolled": true
   },
   "outputs": [
    {
     "data": {
      "text/html": [
       "<div>\n",
       "<style scoped>\n",
       "    .dataframe tbody tr th:only-of-type {\n",
       "        vertical-align: middle;\n",
       "    }\n",
       "\n",
       "    .dataframe tbody tr th {\n",
       "        vertical-align: top;\n",
       "    }\n",
       "\n",
       "    .dataframe thead th {\n",
       "        text-align: right;\n",
       "    }\n",
       "</style>\n",
       "<table border=\"1\" class=\"dataframe\">\n",
       "  <thead>\n",
       "    <tr style=\"text-align: right;\">\n",
       "      <th></th>\n",
       "      <th>AMTBILL_SEP</th>\n",
       "      <th>AMTBILL_AUG</th>\n",
       "      <th>AMTBILL_JUL</th>\n",
       "      <th>AMTBILL_JUN</th>\n",
       "      <th>AMTBILL_MAY</th>\n",
       "      <th>AMTBILL_APR</th>\n",
       "    </tr>\n",
       "  </thead>\n",
       "  <tbody>\n",
       "    <tr>\n",
       "      <th>count</th>\n",
       "      <td>30000.000000</td>\n",
       "      <td>30000.000000</td>\n",
       "      <td>3.000000e+04</td>\n",
       "      <td>30000.000000</td>\n",
       "      <td>30000.000000</td>\n",
       "      <td>30000.000000</td>\n",
       "    </tr>\n",
       "    <tr>\n",
       "      <th>mean</th>\n",
       "      <td>51245.526767</td>\n",
       "      <td>49194.349967</td>\n",
       "      <td>4.703570e+04</td>\n",
       "      <td>43287.066733</td>\n",
       "      <td>40327.549367</td>\n",
       "      <td>38907.530300</td>\n",
       "    </tr>\n",
       "    <tr>\n",
       "      <th>std</th>\n",
       "      <td>73610.241847</td>\n",
       "      <td>71162.228069</td>\n",
       "      <td>6.932805e+04</td>\n",
       "      <td>64309.431029</td>\n",
       "      <td>60785.288413</td>\n",
       "      <td>59511.193927</td>\n",
       "    </tr>\n",
       "    <tr>\n",
       "      <th>min</th>\n",
       "      <td>-9802.000000</td>\n",
       "      <td>-69777.000000</td>\n",
       "      <td>-6.150600e+04</td>\n",
       "      <td>-81334.000000</td>\n",
       "      <td>-81334.000000</td>\n",
       "      <td>-339603.000000</td>\n",
       "    </tr>\n",
       "    <tr>\n",
       "      <th>25%</th>\n",
       "      <td>3565.000000</td>\n",
       "      <td>2990.750000</td>\n",
       "      <td>2.684000e+03</td>\n",
       "      <td>2337.000000</td>\n",
       "      <td>1769.500000</td>\n",
       "      <td>1261.000000</td>\n",
       "    </tr>\n",
       "    <tr>\n",
       "      <th>50%</th>\n",
       "      <td>22385.500000</td>\n",
       "      <td>21200.000000</td>\n",
       "      <td>2.008900e+04</td>\n",
       "      <td>19052.000000</td>\n",
       "      <td>18104.500000</td>\n",
       "      <td>17075.500000</td>\n",
       "    </tr>\n",
       "    <tr>\n",
       "      <th>75%</th>\n",
       "      <td>67091.000000</td>\n",
       "      <td>64006.250000</td>\n",
       "      <td>6.016475e+04</td>\n",
       "      <td>54519.000000</td>\n",
       "      <td>50190.500000</td>\n",
       "      <td>49205.250000</td>\n",
       "    </tr>\n",
       "    <tr>\n",
       "      <th>max</th>\n",
       "      <td>964511.000000</td>\n",
       "      <td>983931.000000</td>\n",
       "      <td>1.664089e+06</td>\n",
       "      <td>891586.000000</td>\n",
       "      <td>927171.000000</td>\n",
       "      <td>961664.000000</td>\n",
       "    </tr>\n",
       "  </tbody>\n",
       "</table>\n",
       "</div>"
      ],
      "text/plain": [
       "         AMTBILL_SEP    AMTBILL_AUG   AMTBILL_JUL    AMTBILL_JUN  \\\n",
       "count   30000.000000   30000.000000  3.000000e+04   30000.000000   \n",
       "mean    51245.526767   49194.349967  4.703570e+04   43287.066733   \n",
       "std     73610.241847   71162.228069  6.932805e+04   64309.431029   \n",
       "min     -9802.000000  -69777.000000 -6.150600e+04  -81334.000000   \n",
       "25%      3565.000000    2990.750000  2.684000e+03    2337.000000   \n",
       "50%     22385.500000   21200.000000  2.008900e+04   19052.000000   \n",
       "75%     67091.000000   64006.250000  6.016475e+04   54519.000000   \n",
       "max    964511.000000  983931.000000  1.664089e+06  891586.000000   \n",
       "\n",
       "         AMTBILL_MAY    AMTBILL_APR  \n",
       "count   30000.000000   30000.000000  \n",
       "mean    40327.549367   38907.530300  \n",
       "std     60785.288413   59511.193927  \n",
       "min    -81334.000000 -339603.000000  \n",
       "25%      1769.500000    1261.000000  \n",
       "50%     18104.500000   17075.500000  \n",
       "75%     50190.500000   49205.250000  \n",
       "max    927171.000000  961664.000000  "
      ]
     },
     "execution_count": 5,
     "metadata": {},
     "output_type": "execute_result"
    }
   ],
   "source": [
    "# Bill Statement description\n",
    "df[['AMTBILL_SEP','AMTBILL_AUG','AMTBILL_JUL','AMTBILL_JUN','AMTBILL_MAY','AMTBILL_APR']].describe()"
   ]
  },
  {
   "cell_type": "markdown",
   "id": "2f03e3cd",
   "metadata": {},
   "source": [
    "Their is nagative values in AMTBILL_MONTH column have nagative values. Can Negative values be interpreted as credit? Need to investigate furthur"
   ]
  },
  {
   "cell_type": "code",
   "execution_count": 6,
   "id": "11c2bc6a",
   "metadata": {
    "scrolled": true
   },
   "outputs": [
    {
     "data": {
      "text/plain": [
       "ID                30000\n",
       "AMT                  81\n",
       "GENDER                2\n",
       "EDUCATION             5\n",
       "MARITAL STATUS        3\n",
       "AGE                  56\n",
       "REPAY_SEP             9\n",
       "REPAY_AUG             9\n",
       "REPAY_JUL             9\n",
       "REPAY_JUN             9\n",
       "REPAY_MAY             8\n",
       "REPAY_APR             8\n",
       "AMTBILL_SEP       22617\n",
       "AMTBILL_AUG       22232\n",
       "AMTBILL_JUL       21906\n",
       "AMTBILL_JUN       21408\n",
       "AMTBILL_MAY       20878\n",
       "AMTBILL_APR       20454\n",
       "PRE_SEP            7943\n",
       "PRE_AUG            7899\n",
       "PRE_JUL            7518\n",
       "PRE_JUN            6937\n",
       "PRE_MAY            6897\n",
       "PRE_APR            6939\n",
       "DEF_AMT               2\n",
       "dtype: int64"
      ]
     },
     "execution_count": 6,
     "metadata": {},
     "output_type": "execute_result"
    }
   ],
   "source": [
    "# check the no of unique values in every column for better data understanding\n",
    "df.nunique()"
   ]
  },
  {
   "cell_type": "code",
   "execution_count": 7,
   "id": "16827d36",
   "metadata": {
    "scrolled": false
   },
   "outputs": [
    {
     "name": "stdout",
     "output_type": "stream",
     "text": [
      "Unique values in  ID\n",
      "[    1     2     3 ... 29998 29999 30000]\n",
      "**************************************************\n",
      "Unique values in  AMT\n",
      "[  20000.  120000.   90000.   50000.  500000.  100000.  140000.  200000.\n",
      "  260000.  630000.   70000.  250000.  320000.  360000.  180000.  130000.\n",
      "  450000.   60000.  230000.  160000.  280000.   10000.   40000.  210000.\n",
      "  150000.  380000.  310000.  400000.   80000.  290000.  340000.  300000.\n",
      "   30000.  240000.  470000.  480000.  350000.  330000.  110000.  420000.\n",
      "  170000.  370000.  270000.  220000.  190000.  510000.  460000.  440000.\n",
      "  410000.  490000.  390000.  580000.  600000.  620000.  610000.  700000.\n",
      "  670000.  680000.  430000.  550000.  540000. 1000000.  530000.  710000.\n",
      "  560000.  520000.  750000.  640000.   16000.  570000.  590000.  660000.\n",
      "  720000.  327680.  740000.  800000.  760000.  690000.  650000.  780000.\n",
      "  730000.]\n",
      "**************************************************\n",
      "Unique values in  GENDER\n",
      "[2 1]\n",
      "**************************************************\n",
      "Unique values in  EDUCATION\n",
      "[ 2.  1.  3.  5.  4. nan]\n",
      "**************************************************\n",
      "Unique values in  MARITAL STATUS\n",
      "[1 2 3]\n",
      "**************************************************\n",
      "Unique values in  AGE\n",
      "[24 26 34 37 57 29 23 28 35 51 41 30 49 39 40 27 47 33 32 54 58 22 25 31\n",
      " 46 42 43 45 56 44 53 38 63 36 52 48 55 60 50 75 61 73 59 21 67 66 62 70\n",
      " 72 64 65 71 69 68 79 74]\n",
      "**************************************************\n",
      "Unique values in  REPAY_SEP\n",
      "[2 0 1 3 4 8 7 5 6]\n",
      "**************************************************\n",
      "Unique values in  REPAY_AUG\n",
      "[2 0 3 5 7 4 1 6 8]\n",
      "**************************************************\n",
      "Unique values in  REPAY_JUL\n",
      "[0 2 3 4 6 7 1 5 8]\n",
      "**************************************************\n",
      "Unique values in  REPAY_JUN\n",
      "[0 2 3 4 5 7 6 1 8]\n",
      "**************************************************\n",
      "Unique values in  REPAY_MAY\n",
      "[0 2 3 5 4 7 8 6]\n",
      "**************************************************\n",
      "Unique values in  REPAY_APR\n",
      "[0 2 3 6 4 7 8 5]\n",
      "**************************************************\n",
      "Unique values in  AMTBILL_SEP\n",
      "[ 3913.  2682. 29239. ...  1683.   645. 47929.]\n",
      "**************************************************\n",
      "Unique values in  AMTBILL_AUG\n",
      "[ 3102.  1725. 14027. ...  3356. 78379. 48905.]\n",
      "**************************************************\n",
      "Unique values in  AMTBILL_JUL\n",
      "[  689.  2682. 13559. ...  2758. 76304. 49764.]\n",
      "**************************************************\n",
      "Unique values in  AMTBILL_JUN\n",
      "[    0.  3272. 14331. ... 20878. 52774. 36535.]\n",
      "**************************************************\n",
      "Unique values in  AMTBILL_MAY\n",
      "[    0.  3455. 14948. ... 31237.  5190. 32428.]\n",
      "**************************************************\n",
      "Unique values in  AMTBILL_APR\n",
      "[    0.  3261. 15549. ... 19357. 48944. 15313.]\n",
      "**************************************************\n",
      "Unique values in  PRE_SEP\n",
      "[    0.  1518.  2000. ... 10029.  9054. 85900.]\n",
      "**************************************************\n",
      "Unique values in  PRE_AUG\n",
      "[   689.   1000.   1500. ...   2977. 111784.   3526.]\n",
      "**************************************************\n",
      "Unique values in  PRE_JUL\n",
      "[     0.   1000.   1200. ... 349395.   8907.  25128.]\n",
      "**************************************************\n",
      "Unique values in  PRE_JUN\n",
      "[    0.  1000.  1100. ...  2556. 10115.  8049.]\n",
      "**************************************************\n",
      "Unique values in  PRE_MAY\n",
      "[    0.  1000.  1069. ...  8040.  3319. 52964.]\n",
      "**************************************************\n",
      "Unique values in  PRE_APR\n",
      "[     0.   2000.   5000. ...  70052. 220076.  16080.]\n",
      "**************************************************\n",
      "Unique values in  DEF_AMT\n",
      "[1 0]\n",
      "**************************************************\n"
     ]
    }
   ],
   "source": [
    "# Looking at all the unique values in features\n",
    "\n",
    "for i in df.columns:\n",
    "    print(\"Unique values in\",'',i)\n",
    "    unique_vals = df[i].unique()\n",
    "    print(unique_vals)\n",
    "    print(50*'*')"
   ]
  },
  {
   "cell_type": "markdown",
   "id": "2108267c",
   "metadata": {},
   "source": [
    "There were no extra values present in the data, all values in every column were as per the data set description"
   ]
  },
  {
   "cell_type": "markdown",
   "id": "21f477fe",
   "metadata": {},
   "source": [
    "## 6) Data Cleaning"
   ]
  },
  {
   "cell_type": "code",
   "execution_count": 8,
   "id": "add1385c",
   "metadata": {
    "scrolled": true
   },
   "outputs": [
    {
     "data": {
      "text/plain": [
       "ID                 0\n",
       "AMT                0\n",
       "GENDER             0\n",
       "EDUCATION         14\n",
       "MARITAL STATUS     0\n",
       "AGE                0\n",
       "REPAY_SEP          0\n",
       "REPAY_AUG          0\n",
       "REPAY_JUL          0\n",
       "REPAY_JUN          0\n",
       "REPAY_MAY          0\n",
       "REPAY_APR          0\n",
       "AMTBILL_SEP        0\n",
       "AMTBILL_AUG        0\n",
       "AMTBILL_JUL        0\n",
       "AMTBILL_JUN        0\n",
       "AMTBILL_MAY        0\n",
       "AMTBILL_APR        0\n",
       "PRE_SEP            0\n",
       "PRE_AUG            0\n",
       "PRE_JUL            0\n",
       "PRE_JUN            0\n",
       "PRE_MAY            0\n",
       "PRE_APR            0\n",
       "DEF_AMT            0\n",
       "dtype: int64"
      ]
     },
     "execution_count": 8,
     "metadata": {},
     "output_type": "execute_result"
    }
   ],
   "source": [
    "#  checking the sum of null values in every column...\n",
    "totalnull_val = df.isnull().sum()\n",
    "totalnull_val"
   ]
  },
  {
   "cell_type": "code",
   "execution_count": 9,
   "id": "671504e1",
   "metadata": {
    "scrolled": true
   },
   "outputs": [
    {
     "data": {
      "text/plain": [
       "ID                0.000000\n",
       "AMT               0.000000\n",
       "GENDER            0.000000\n",
       "EDUCATION         0.046667\n",
       "MARITAL STATUS    0.000000\n",
       "AGE               0.000000\n",
       "REPAY_SEP         0.000000\n",
       "REPAY_AUG         0.000000\n",
       "REPAY_JUL         0.000000\n",
       "REPAY_JUN         0.000000\n",
       "REPAY_MAY         0.000000\n",
       "REPAY_APR         0.000000\n",
       "AMTBILL_SEP       0.000000\n",
       "AMTBILL_AUG       0.000000\n",
       "AMTBILL_JUL       0.000000\n",
       "AMTBILL_JUN       0.000000\n",
       "AMTBILL_MAY       0.000000\n",
       "AMTBILL_APR       0.000000\n",
       "PRE_SEP           0.000000\n",
       "PRE_AUG           0.000000\n",
       "PRE_JUL           0.000000\n",
       "PRE_JUN           0.000000\n",
       "PRE_MAY           0.000000\n",
       "PRE_APR           0.000000\n",
       "DEF_AMT           0.000000\n",
       "dtype: float64"
      ]
     },
     "execution_count": 9,
     "metadata": {},
     "output_type": "execute_result"
    }
   ],
   "source": [
    "# calculating the percentage of null values for every individual column….\n",
    "percentnull_val = (totalnull_val/df.shape[0])*100\n",
    "percentnull_val"
   ]
  },
  {
   "cell_type": "markdown",
   "id": "db146540",
   "metadata": {},
   "source": [
    "### We can observe that EDUCATION have 0.047%  null values Hence our decision of either drop the Null values or imputing them. As the percent null values were very small So we can go ahead and drop null values."
   ]
  },
  {
   "cell_type": "code",
   "execution_count": 10,
   "id": "1a892ebf",
   "metadata": {},
   "outputs": [
    {
     "data": {
      "text/plain": [
       "(30000, 25)"
      ]
     },
     "execution_count": 10,
     "metadata": {},
     "output_type": "execute_result"
    }
   ],
   "source": [
    "df.shape # With null values"
   ]
  },
  {
   "cell_type": "code",
   "execution_count": 11,
   "id": "9dbc1a4c",
   "metadata": {},
   "outputs": [],
   "source": [
    "# droping null values\n",
    "df = df.dropna()"
   ]
  },
  {
   "cell_type": "code",
   "execution_count": 12,
   "id": "e822dfa0",
   "metadata": {},
   "outputs": [
    {
     "data": {
      "text/plain": [
       "(29986, 25)"
      ]
     },
     "execution_count": 12,
     "metadata": {},
     "output_type": "execute_result"
    }
   ],
   "source": [
    "df.shape #After removing null values"
   ]
  },
  {
   "cell_type": "markdown",
   "id": "dd7c02c1",
   "metadata": {},
   "source": [
    "## Dealing with duplicate values ....  "
   ]
  },
  {
   "cell_type": "code",
   "execution_count": 13,
   "id": "3bc01e62",
   "metadata": {
    "scrolled": true
   },
   "outputs": [
    {
     "data": {
      "text/plain": [
       "0"
      ]
     },
     "execution_count": 13,
     "metadata": {},
     "output_type": "execute_result"
    }
   ],
   "source": [
    "df.duplicated().sum()"
   ]
  },
  {
   "cell_type": "markdown",
   "id": "e9352c98",
   "metadata": {},
   "source": [
    "there are no duplicate values in the column"
   ]
  },
  {
   "cell_type": "code",
   "execution_count": 14,
   "id": "441c7fe8",
   "metadata": {
    "scrolled": true
   },
   "outputs": [
    {
     "name": "stdout",
     "output_type": "stream",
     "text": [
      "<class 'pandas.core.frame.DataFrame'>\n",
      "Int64Index: 29986 entries, 0 to 29999\n",
      "Data columns (total 25 columns):\n",
      " #   Column          Non-Null Count  Dtype  \n",
      "---  ------          --------------  -----  \n",
      " 0   ID              29986 non-null  int64  \n",
      " 1   AMT             29986 non-null  float64\n",
      " 2   GENDER          29986 non-null  int64  \n",
      " 3   EDUCATION       29986 non-null  float64\n",
      " 4   MARITAL STATUS  29986 non-null  int64  \n",
      " 5   AGE             29986 non-null  int64  \n",
      " 6   REPAY_SEP       29986 non-null  int64  \n",
      " 7   REPAY_AUG       29986 non-null  int64  \n",
      " 8   REPAY_JUL       29986 non-null  int64  \n",
      " 9   REPAY_JUN       29986 non-null  int64  \n",
      " 10  REPAY_MAY       29986 non-null  int64  \n",
      " 11  REPAY_APR       29986 non-null  int64  \n",
      " 12  AMTBILL_SEP     29986 non-null  float64\n",
      " 13  AMTBILL_AUG     29986 non-null  float64\n",
      " 14  AMTBILL_JUL     29986 non-null  float64\n",
      " 15  AMTBILL_JUN     29986 non-null  float64\n",
      " 16  AMTBILL_MAY     29986 non-null  float64\n",
      " 17  AMTBILL_APR     29986 non-null  float64\n",
      " 18  PRE_SEP         29986 non-null  float64\n",
      " 19  PRE_AUG         29986 non-null  float64\n",
      " 20  PRE_JUL         29986 non-null  float64\n",
      " 21  PRE_JUN         29986 non-null  float64\n",
      " 22  PRE_MAY         29986 non-null  float64\n",
      " 23  PRE_APR         29986 non-null  float64\n",
      " 24  DEF_AMT         29986 non-null  int64  \n",
      "dtypes: float64(14), int64(11)\n",
      "memory usage: 5.9 MB\n"
     ]
    }
   ],
   "source": [
    "#information of dataset..\n",
    "df.info()"
   ]
  },
  {
   "cell_type": "markdown",
   "id": "9cd2ccad",
   "metadata": {},
   "source": [
    "# 7) Exploratory Data Analysis (EDA)"
   ]
  },
  {
   "cell_type": "markdown",
   "id": "50da6042",
   "metadata": {},
   "source": [
    "## How many defaulters"
   ]
  },
  {
   "cell_type": "code",
   "execution_count": 15,
   "id": "358357c3",
   "metadata": {
    "scrolled": true
   },
   "outputs": [
    {
     "name": "stdout",
     "output_type": "stream",
     "text": [
      "The percentage of defaulters in the data is 22.13032748616021 %\n"
     ]
    },
    {
     "data": {
      "text/plain": [
       "[]"
      ]
     },
     "execution_count": 15,
     "metadata": {},
     "output_type": "execute_result"
    },
    {
     "data": {
      "image/png": "[encoded data removed]",
      "text/plain": [
       "<Figure size 640x480 with 1 Axes>"
      ]
     },
     "metadata": {},
     "output_type": "display_data"
    }
   ],
   "source": [
    "perc_default = df.DEF_AMT.sum() / len(df.DEF_AMT)\n",
    "print(f'The percentage of defaulters in the data is {perc_default*100} %')\n",
    "df['DEF_AMT'].value_counts().plot(kind='pie',explode=[0.1,0],autopct=\"%1.1f%%\")\n",
    "plt.title('Percentage of Defaulters')\n",
    "plt.plot()"
   ]
  },
  {
   "cell_type": "markdown",
   "id": "f450f59a",
   "metadata": {},
   "source": [
    "## 7.1) Repayment status "
   ]
  },
  {
   "cell_type": "code",
   "execution_count": 16,
   "id": "8706e89e",
   "metadata": {},
   "outputs": [],
   "source": [
    "def draw_histograms(df, variables, n_rows, n_cols, n_bins):\n",
    "    fig, axes = plt.subplots(nrows=n_rows, ncols=n_cols, figsize=(15, 10))\n",
    "    for i, var_name in enumerate(variables):\n",
    "        row = i // n_cols\n",
    "        col = i % n_cols\n",
    "        sns.histplot(data=df, x=var_name, bins=n_bins, ax=axes[row, col])\n",
    "        axes[row, col].set_title(var_name)\n",
    "    fig.tight_layout()\n",
    "    plt.show()"
   ]
  },
  {
   "cell_type": "code",
   "execution_count": 17,
   "id": "49f47616",
   "metadata": {
    "scrolled": true
   },
   "outputs": [
    {
     "data": {
      "image/png": "[encoded data removed]",
      "text/plain": [
       "<Figure size 1500x1000 with 6 Axes>"
      ]
     },
     "metadata": {},
     "output_type": "display_data"
    }
   ],
   "source": [
    "late = df[['REPAY_SEP','REPAY_AUG','REPAY_JUL','REPAY_JUN','REPAY_MAY','REPAY_APR']]\n",
    "draw_histograms(late, late.columns, 2, 3, 10)"
   ]
  },
  {
   "cell_type": "code",
   "execution_count": null,
   "id": "699ad57c",
   "metadata": {},
   "outputs": [],
   "source": [
    "# Set the size of the plot\n",
    "plt.figure(figsize=(15, 12))\n",
    "\n",
    "\n",
    "for i,col in enumerate(late):    \n",
    "    plt.subplot(3,2,i + 1)\n",
    "    ax = sns.barplot(x = col, y = \"DEF_AMT\", data = df, palette = 'rocket')\n",
    "    plt.ylabel(\"% of Default\", fontsize= 12)\n",
    "    plt.ylim(0,1.2)\n",
    "    plt.tight_layout()\n",
    "    \n",
    "    for p in ax.patches:\n",
    "        ax.annotate(\"%.2f\" %(p.get_height()), (p.get_x()+0.09, p.get_height()+0.03),fontsize=13)\n",
    "\n",
    "# Adjust subplot layout\n",
    "plt.tight_layout()\n",
    "plt.show()"
   ]
  },
  {
   "cell_type": "markdown",
   "id": "bf4551e5",
   "metadata": {},
   "source": [
    "-> Most customers are duly paying their credit card bills. And it's pretty clear that their likelihood of default are much lower than the rest.                     \n",
    "\n",
    "-> Credit card holders who consistently delay their payments for >= 2 months are significantly more likely to face defaults."
   ]
  },
  {
   "cell_type": "markdown",
   "id": "60202bb5",
   "metadata": {},
   "source": [
    "## 7.2)  Amount of bill statement"
   ]
  },
  {
   "cell_type": "code",
   "execution_count": null,
   "id": "c0dc7e43",
   "metadata": {},
   "outputs": [],
   "source": [
    "late1 = df[['AMTBILL_SEP','AMTBILL_AUG','AMTBILL_JUL','AMTBILL_JUN','AMTBILL_MAY','AMTBILL_APR']]\n",
    "draw_histograms(late1, late1.columns, 2, 3, 10)"
   ]
  },
  {
   "cell_type": "code",
   "execution_count": null,
   "id": "bb19e79e",
   "metadata": {
    "scrolled": true
   },
   "outputs": [],
   "source": [
    "plt.figure(figsize=(15,12))\n",
    "\n",
    "for i,col in enumerate(late1):    \n",
    "    plt.subplot(3,2,i + 1)    \n",
    "    sns.kdeplot(df.loc[(df['DEF_AMT'] == 0), col], label = 'No Default', fill = True)\n",
    "    sns.kdeplot(df.loc[(df['DEF_AMT'] == 1), col], label = 'Default', fill = True)\n",
    "    plt.xlim(-50000,200000)\n",
    "    plt.ylabel('')\n",
    "    plt.legend()\n",
    "    plt.tight_layout()\n",
    "\n",
    "plt.show()"
   ]
  },
  {
   "cell_type": "markdown",
   "id": "39bef315",
   "metadata": {},
   "source": [
    "Making bins will give us more clear analysis of this section"
   ]
  },
  {
   "cell_type": "code",
   "execution_count": null,
   "id": "8763fdba",
   "metadata": {},
   "outputs": [],
   "source": [
    "df['AMTBILL_SEP_bin'] = df['AMTBILL_SEP'].copy()\n",
    "df['AMTBILL_AUG_bin'] = df['AMTBILL_AUG'].copy()\n",
    "df['AMTBILL_JUL_bin'] = df['AMTBILL_JUL'].copy()\n",
    "df['AMTBILL_JUN_bin'] = df['AMTBILL_JUN'].copy()\n",
    "df['AMTBILL_MAY_bin'] = df['AMTBILL_MAY'].copy()\n",
    "df['AMTBILL_APR_bin'] = df['AMTBILL_APR'].copy()"
   ]
  },
  {
   "cell_type": "code",
   "execution_count": null,
   "id": "eac86d1e",
   "metadata": {},
   "outputs": [],
   "source": [
    "late2 = ['AMTBILL_SEP_bin','AMTBILL_AUG_bin','AMTBILL_JUL_bin','AMTBILL_JUN_bin','AMTBILL_MAY_bin','AMTBILL_APR_bin']\n",
    "for i, col in enumerate (late2):\n",
    "    df[col] = pd.cut(df[late2[i]],[-350000,-1,0,25000, 75000, 200000, 2000000])"
   ]
  },
  {
   "cell_type": "code",
   "execution_count": null,
   "id": "d579bb1f",
   "metadata": {},
   "outputs": [],
   "source": [
    "df.head()"
   ]
  },
  {
   "cell_type": "code",
   "execution_count": null,
   "id": "d86a87e2",
   "metadata": {},
   "outputs": [],
   "source": [
    "plt.figure(figsize=(15, 12))\n",
    "for i,col in enumerate(late2):    \n",
    "    plt.subplot(3,2,i + 1)\n",
    "    ax = sns.countplot(data = df, x = col, hue=\"DEF_AMT\", palette = 'rocket')\n",
    "    plt.ylim(0,13000)\n",
    "    plt.ylabel('')\n",
    "    plt.xticks([0,1,2,3,4,5],['0 <', '= 0', '0-25k', '25k-75k', '75k-200k', '>200k'], fontsize = 11)\n",
    "    plt.tight_layout()\n",
    "\n",
    "    for p in ax.patches:\n",
    "        ax.annotate((p.get_height()), (p.get_x()+0.04, p.get_height()+700), fontsize = 11)    \n",
    "        \n",
    "plt.show()"
   ]
  },
  {
   "cell_type": "code",
   "execution_count": null,
   "id": "ae24c1b5",
   "metadata": {},
   "outputs": [],
   "source": [
    "plt.figure(figsize=(15,12))\n",
    "\n",
    "for i,col in enumerate(late2):    \n",
    "    plt.subplot(3,2,i + 1)\n",
    "    ax = sns.barplot(x = col, y = \"DEF_AMT\", data = df, palette = 'rocket')\n",
    "    plt.ylabel(\"% of Default\", fontsize= 12)\n",
    "    plt.ylim(0,0.5)\n",
    "    plt.xticks([0,1,2,3,4,5],['0 <', '= 0', '0-25k', '25k-75k', '75k-200k', '>200k'], fontsize = 11)    \n",
    "    plt.tight_layout()\n",
    "    \n",
    "    for p in ax.patches:\n",
    "        ax.annotate(\"%.2f\" %(p.get_height()), (p.get_x()+0.21, p.get_height()+0.03),fontsize=13)\n",
    "\n",
    "plt.show()"
   ]
  },
  {
   "cell_type": "markdown",
   "id": "fe4388aa",
   "metadata": {},
   "source": [
    "->  Those who have a negative bill statement have a lower chance of default than the rest. What stands out is that there is a little higher chance of default for those who didn't have a bill in the previous months."
   ]
  },
  {
   "cell_type": "code",
   "execution_count": null,
   "id": "5bcb9f09",
   "metadata": {},
   "outputs": [],
   "source": [
    "df.head()"
   ]
  },
  {
   "cell_type": "markdown",
   "id": "06fa0789",
   "metadata": {},
   "source": [
    "## 7.3)  Amount of previous payment"
   ]
  },
  {
   "cell_type": "code",
   "execution_count": null,
   "id": "c478fd0d",
   "metadata": {},
   "outputs": [],
   "source": [
    "late3 = df[['PRE_SEP','PRE_AUG','PRE_JUL','PRE_JUN','PRE_MAY','PRE_APR']]\n",
    "draw_histograms(late3, late3.columns, 2, 3, 10)"
   ]
  },
  {
   "cell_type": "code",
   "execution_count": null,
   "id": "322a4274",
   "metadata": {
    "scrolled": true
   },
   "outputs": [],
   "source": [
    "plt.figure(figsize=(15,12))\n",
    "\n",
    "for i,col in enumerate(late3):    \n",
    "    plt.subplot(3,2,i + 1)    \n",
    "    sns.kdeplot(df.loc[(df['DEF_AMT'] == 0), col], label = 'No Default', fill = True)\n",
    "    sns.kdeplot(df.loc[(df['DEF_AMT'] == 1), col], label = 'Default', fill = True)\n",
    "    plt.xlim(-10000,100000)\n",
    "    plt.ylabel('')\n",
    "    plt.legend()\n",
    "    plt.tight_layout()\n",
    "\n",
    "plt.show()"
   ]
  },
  {
   "cell_type": "markdown",
   "id": "adaa76ac",
   "metadata": {},
   "source": [
    "Let us Create bins for previous payments"
   ]
  },
  {
   "cell_type": "code",
   "execution_count": null,
   "id": "a4c6e14c",
   "metadata": {},
   "outputs": [],
   "source": [
    "df['PRE_SEP_bin'] = df['PRE_SEP'].copy()\n",
    "df['PRE_AUG_bin'] = df['PRE_AUG'].copy()\n",
    "df['PRE_JUL_bin'] = df['PRE_JUL'].copy()\n",
    "df['PRE_JUN_bin'] = df['PRE_JUN'].copy()\n",
    "df['PRE_MAY_bin'] = df['PRE_MAY'].copy()\n",
    "df['PRE_APR_bin'] = df['PRE_APR'].copy()"
   ]
  },
  {
   "cell_type": "code",
   "execution_count": null,
   "id": "ea214a9f",
   "metadata": {},
   "outputs": [],
   "source": [
    "late4 = ['PRE_SEP_bin','PRE_AUG_bin','PRE_JUL_bin','PRE_JUN_bin','PRE_MAY_bin','PRE_APR_bin']\n",
    "for i, col in enumerate (late4):\n",
    "    df[col] = pd.cut(df[late4[i]],[-350000,-1,0,25000, 75000, 200000, 2000000])"
   ]
  },
  {
   "cell_type": "code",
   "execution_count": null,
   "id": "832175e0",
   "metadata": {},
   "outputs": [],
   "source": [
    "df.head()"
   ]
  },
  {
   "cell_type": "code",
   "execution_count": null,
   "id": "b596014b",
   "metadata": {},
   "outputs": [],
   "source": [
    "plt.figure(figsize=(15, 12))\n",
    "for i,col in enumerate(late4):    \n",
    "    plt.subplot(3,2,i + 1)\n",
    "    ax = sns.countplot(data = df, x = col, hue=\"DEF_AMT\", palette = 'rocket')\n",
    "    plt.ylim(0,13000)\n",
    "    plt.ylabel('')\n",
    "    plt.xticks([0,1,2,3,4,5],['0 <', '= 0', '0-25k', '25k-75k', '75k-200k', '>200k'], fontsize = 11)\n",
    "    plt.tight_layout()\n",
    "\n",
    "    for p in ax.patches:\n",
    "        ax.annotate((p.get_height()), (p.get_x()+0.04, p.get_height()+700), fontsize = 11)    \n",
    "        \n",
    "plt.show()"
   ]
  },
  {
   "cell_type": "code",
   "execution_count": null,
   "id": "470e0753",
   "metadata": {},
   "outputs": [],
   "source": [
    "plt.figure(figsize=(15,12))\n",
    "\n",
    "for i,col in enumerate(late4):    \n",
    "    plt.subplot(3,2,i + 1)\n",
    "    ax = sns.barplot(x = col, y = \"DEF_AMT\", data = df, palette = 'rocket')\n",
    "    plt.ylabel(\"% of Default\", fontsize= 12)\n",
    "    plt.ylim(0,0.5)\n",
    "    plt.xticks([0,1,2,3,4,5],['0 <', '= 0', '0-25k', '25k-75k', '75k-200k', '>200k'], fontsize = 11)    \n",
    "    plt.tight_layout()\n",
    "    \n",
    "    for p in ax.patches:\n",
    "        ax.annotate(\"%.2f\" %(p.get_height()), (p.get_x()+0.21, p.get_height()+0.03),fontsize=13)\n",
    "\n",
    "plt.show()"
   ]
  },
  {
   "cell_type": "markdown",
   "id": "ade47a00",
   "metadata": {},
   "source": [
    " -> There is a higher default rate among those who paid nothing in previous months and lower rates among those paid over 25k of NT dollars."
   ]
  },
  {
   "cell_type": "markdown",
   "id": "7af3c64a",
   "metadata": {},
   "source": [
    "## 7.4) Categorical Columns (GENDER, EDUCATION, MARITAL STATUS)"
   ]
  },
  {
   "cell_type": "markdown",
   "id": "151287b9",
   "metadata": {},
   "source": [
    "GENDER: Gender (1=male, 2=female).\n",
    "\n",
    "EDUCATION: (1=graduate school, 2=university, 3=high school, 4=others, 5=unknown).\n",
    "\n",
    "MARITAL STATUS: Marital status (1=married, 2=single, 3=others).\n",
    "\n",
    "DEF_AMT: Default payment (1=yes, 0=no)."
   ]
  },
  {
   "cell_type": "code",
   "execution_count": null,
   "id": "8165e8f8",
   "metadata": {
    "scrolled": true
   },
   "outputs": [],
   "source": [
    "def show_value_counts(col):\n",
    "    print(col)\n",
    "    value_counts = df[col].value_counts()\n",
    "    percentage = value_counts / len(df) * 100\n",
    "    result_df = pd.DataFrame({'Value': value_counts.index, 'Count': value_counts, 'Percentage': percentage})\n",
    "    result_df = result_df.sort_values(by='Value')\n",
    "    print(result_df)\n",
    "    print('--------------------------')\n",
    "    generate_pie_plot(result_df)\n",
    "    \n",
    "    \n",
    "def generate_pie_plot(data_frame):\n",
    "    plt.figure(figsize=(6, 4))\n",
    "    plt.pie(data_frame['Count'], labels=data_frame['Value'], autopct='%1.1f%%')\n",
    "    plt.axis('equal')\n",
    "    plt.show()\n",
    "    \n",
    "\n",
    "show_value_counts('GENDER')\n",
    "show_value_counts('EDUCATION')\n",
    "show_value_counts('MARITAL STATUS')"
   ]
  },
  {
   "cell_type": "markdown",
   "id": "609566a7",
   "metadata": {},
   "source": [
    "-> There are significantly more women than men\n",
    "-> Most of Credit Card holders have university and graduate level education."
   ]
  },
  {
   "cell_type": "code",
   "execution_count": null,
   "id": "4353e51a",
   "metadata": {
    "scrolled": false
   },
   "outputs": [],
   "source": [
    "fig, axes = plt.subplots(nrows=3, ncols=1, figsize=(15, 13))\n",
    "\n",
    "\n",
    "\n",
    "# Count plot for MARITAL STATUS\n",
    "ax1 = sns.countplot(data=df, x='MARITAL STATUS', hue='DEF_AMT', palette='rocket', ax=axes[0])\n",
    "ax1.set_xlabel(\"MARITAL STATUS\", fontsize=12)\n",
    "ax1.set_ylabel(\"Number of Clients\", fontsize=12)\n",
    "ax1.set_ylim(0, 15000)\n",
    "ax1.set_xticks([0, 1, 2])\n",
    "ax1.set_xticklabels(['Married', 'Single', 'Others'], fontsize=11)\n",
    "for p in ax1.patches:\n",
    "    ax1.annotate(int(p.get_height()), (p.get_x() + 0.12, p.get_height() + 500))\n",
    "\n",
    "\n",
    "# Count plot for EDUCATION\n",
    "ax2 = sns.countplot(data=df, x='EDUCATION', hue='DEF_AMT', palette='rocket', ax=axes[1])\n",
    "ax2.set_xlabel(\"Educational Background\", fontsize=12)\n",
    "ax2.set_ylabel(\"Number of Clients\", fontsize=12)\n",
    "ax2.set_ylim(0, 15000)\n",
    "ax2.set_xticks([0, 1, 2, 3,4])\n",
    "ax2.set_xticklabels(['graduate school', 'university', 'high school', 'Others','unknown'], fontsize=11)\n",
    "for p in ax2.patches:\n",
    "    ax2.annotate(int(p.get_height()), (p.get_x() + 0.12, p.get_height() + 500))\n",
    "    \n",
    "\n",
    "# Count plot for GENDER\n",
    "ax3 = sns.countplot(data=df, x='GENDER', hue='DEF_AMT', palette='rocket', ax=axes[2])\n",
    "ax3.set_xlabel(\"Gender\", fontsize=12)\n",
    "ax3.set_ylabel(\"Number of Clients\", fontsize=12)\n",
    "ax3.set_ylim(0, 15000)\n",
    "ax3.set_xticks([0, 1])\n",
    "ax3.set_xticklabels(['Male', 'Female'], fontsize=11)\n",
    "for p in ax3.patches:\n",
    "    ax3.annotate(int(p.get_height()), (p.get_x() + 0.12, p.get_height() + 500))\n",
    "\n",
    "\n",
    "\n",
    "plt.tight_layout()\n",
    "plt.show()"
   ]
  },
  {
   "cell_type": "code",
   "execution_count": null,
   "id": "4c7e3d6d",
   "metadata": {
    "scrolled": true
   },
   "outputs": [],
   "source": [
    "fig, axes = plt.subplots(nrows=3, ncols=1, figsize=(18, 15))\n",
    "\n",
    "# Bar plot for EDUCATION\n",
    "ax1 = sns.barplot(x=\"EDUCATION\", y=\"DEF_AMT\", data=df, palette='rocket', ax=axes[0])\n",
    "ax1.set_ylabel(\"% of Default\", fontsize=12)\n",
    "ax1.set_ylim(0, 0.5)\n",
    "ax1.set_xticks([0, 1, 2, 3,4])\n",
    "ax1.set_xticklabels(['Grad School', 'University', 'High School', 'Others','unknown'], fontsize=13)\n",
    "for p in ax1.patches:\n",
    "    ax1.annotate(\"%.2f\" % (p.get_height()), (p.get_x() + 0.30, p.get_height() + 0.03), fontsize=15)\n",
    "\n",
    "# Bar plot for MARRIAGE\n",
    "ax2 = sns.barplot(x=\"MARITAL STATUS\", y=\"DEF_AMT\", data=df, palette='rocket', ax=axes[1])\n",
    "ax2.set_ylabel(\"% of Default\", fontsize=12)\n",
    "ax2.set_ylim(0, 0.5)\n",
    "ax2.set_xticks([0,1,2])\n",
    "ax2.set_xticklabels(['Married', 'Single', 'Others'], fontsize=13)\n",
    "for p in ax2.patches:\n",
    "    ax2.annotate(\"%.2f\" % (p.get_height()), (p.get_x() + 0.30, p.get_height() + 0.03), fontsize=15)\n",
    "\n",
    "# Bar plot for SEX\n",
    "ax3 = sns.barplot(x=\"GENDER\", y=\"DEF_AMT\", data=df, palette='rocket', ax=axes[2])\n",
    "ax3.set_ylabel(\"% of Default\", fontsize=12)\n",
    "ax3.set_ylim(0, 0.5)\n",
    "ax3.set_xticks([0, 1])\n",
    "ax3.set_xticklabels(['Male', 'Female'], fontsize=13)\n",
    "for p in ax3.patches:\n",
    "    ax3.annotate(\"%.2f\" % (p.get_height()), (p.get_x() + 0.30, p.get_height() + 0.03), fontsize=15)\n",
    "\n",
    "plt.tight_layout()\n",
    "plt.show()"
   ]
  },
  {
   "cell_type": "markdown",
   "id": "f54ae24a",
   "metadata": {},
   "source": [
    "-> The likelihood of being a defaulter decreases as your education level increases.             \n",
    "-> Married and other marital statuses (possibly including divorced) have an approximately 0.24 probability of being defaulters, whereas single individuals have a lower likelihood at 0.21.           \n",
    "-> Despite a smaller number of males in the dataset compared to females, males exhibit a higher likelihood of being defaulters."
   ]
  },
  {
   "cell_type": "code",
   "execution_count": null,
   "id": "7630dbfe",
   "metadata": {
    "scrolled": true
   },
   "outputs": [],
   "source": [
    "plt.figure(figsize=(12,4))\n",
    "\n",
    "hue_label_mapping = {0: 'married',1: 'single',2: 'others'}\n",
    "\n",
    "ax = sns.barplot(x = \"GENDER\", y = \"DEF_AMT\",data = df, palette = 'rocket',hue='MARITAL STATUS')\n",
    "\n",
    "plt.ylabel(\"% of Default\", fontsize= 12)\n",
    "plt.ylim(0,0.5)\n",
    "plt.xticks([0,1],['Male', 'Female'], fontsize = 12)\n",
    "\n",
    "for p in ax.patches:\n",
    "    ax.annotate(\"%.2f\" %(p.get_height()), (p.get_x()+0.06, p.get_height()+0.03),fontsize=12)\n",
    "\n",
    "plt.show()"
   ]
  },
  {
   "cell_type": "code",
   "execution_count": null,
   "id": "a76c99b1",
   "metadata": {
    "scrolled": true
   },
   "outputs": [],
   "source": [
    "plt.figure(figsize=(12,4))\n",
    "\n",
    "ax = sns.barplot(x = \"GENDER\", y = \"DEF_AMT\", hue = \"EDUCATION\", data = df, palette = 'rocket')\n",
    "\n",
    "plt.ylabel(\"% of Default\", fontsize= 12)\n",
    "plt.ylim(0,0.5)\n",
    "plt.xticks([0,1],['Male', 'Female'], fontsize = 12)\n",
    "plt.legend(['Grad School', 'University', 'High School', 'Others'], title = 'EDUCATION')\n",
    "\n",
    "for p in ax.patches:\n",
    "    ax.annotate(\"%.2f\" %(p.get_height()), (p.get_x()+0.06, p.get_height()+0.03),fontsize=12)\n",
    "\n",
    "plt.show()"
   ]
  },
  {
   "cell_type": "code",
   "execution_count": null,
   "id": "65acd638",
   "metadata": {},
   "outputs": [],
   "source": [
    "plt.figure(figsize=(12,4))\n",
    "\n",
    "ax = sns.barplot(x = \"MARITAL STATUS\", y = \"DEF_AMT\", hue = \"EDUCATION\", data = df, palette = 'rocket')\n",
    "\n",
    "plt.ylabel(\"% of Default\", fontsize= 12)\n",
    "plt.ylim(0,0.5)\n",
    "plt.xticks([0,1,2],['Married', 'Single','Others'], fontsize = 12)\n",
    "plt.legend(['Grad School', 'University', 'High School', 'Others','unknown'], title = 'EDUCATION')\n",
    "\n",
    "for p in ax.patches:\n",
    "    ax.annotate(\"%.2f\" %(p.get_height()), (p.get_x()+0.06, p.get_height()+0.03),fontsize=12)\n",
    "\n",
    "plt.show()"
   ]
  },
  {
   "cell_type": "markdown",
   "id": "e3f166b8",
   "metadata": {},
   "source": [
    "-> Being male, married, and having a high school education seems to increase the likelihood of being a defaulter.         \n",
    "-> People who are marked as \"Others\" in their marital status (likely indicating divorced individuals) have a notable probability of around 0.29 for facing defaults, which is a relatively higher occurrence."
   ]
  },
  {
   "cell_type": "markdown",
   "id": "4049bc7b",
   "metadata": {},
   "source": [
    "## 7.5) AGE COLUMN"
   ]
  },
  {
   "cell_type": "code",
   "execution_count": null,
   "id": "444a51b5",
   "metadata": {},
   "outputs": [],
   "source": [
    "sns.histplot(df['AGE'],bins=20,kde=True)"
   ]
  },
  {
   "cell_type": "code",
   "execution_count": null,
   "id": "740b1c6f",
   "metadata": {},
   "outputs": [],
   "source": [
    "plt.figure(figsize=(12,4))\n",
    "\n",
    "sns.kdeplot(df.loc[(df['DEF_AMT'] == 0), 'AGE'], label = 'No Default', fill = True)\n",
    "sns.kdeplot(df.loc[(df['DEF_AMT'] == 1), 'AGE'], label = 'Default', fill = True)\n",
    "plt.legend()\n",
    "plt.show()"
   ]
  },
  {
   "cell_type": "code",
   "execution_count": null,
   "id": "c754b726",
   "metadata": {},
   "outputs": [],
   "source": [
    "df['AgeBin'] = pd.cut(df['AGE'],[20, 25, 30, 35, 40, 50, 60, 80])\n",
    "print(df['AgeBin'].value_counts())"
   ]
  },
  {
   "cell_type": "code",
   "execution_count": null,
   "id": "480e9fc8",
   "metadata": {},
   "outputs": [],
   "source": [
    "plt.figure(figsize=(12,4))\n",
    "\n",
    "df['AgeBin'] = df['AgeBin'].astype('str')\n",
    "AgeBin_order = ['(20, 25]', '(25, 30]', '(30, 35]', '(35, 40]', '(40, 50]', '(50, 60]', '(60, 80]']\n",
    "\n",
    "ax = sns.countplot(data = df, x = 'AgeBin', hue=\"DEF_AMT\", palette = 'rocket', order = AgeBin_order)\n",
    "\n",
    "plt.xlabel(\"Age Group\", fontsize= 12)\n",
    "plt.ylabel(\"Number of Clients\", fontsize= 12)\n",
    "plt.ylim(0,8000)\n",
    "\n",
    "for p in ax.patches:\n",
    "    ax.annotate((p.get_height()), (p.get_x()+0.075, p.get_height()+300))\n",
    "\n",
    "plt.show()"
   ]
  },
  {
   "cell_type": "code",
   "execution_count": null,
   "id": "74c5bb0e",
   "metadata": {},
   "outputs": [],
   "source": [
    "plt.figure(figsize=(12,4))\n",
    "\n",
    "ax = sns.barplot(x = \"AgeBin\", y = \"DEF_AMT\", data = df, palette = 'rocket', order = AgeBin_order)\n",
    "\n",
    "plt.xlabel(\"Age Group\", fontsize= 12)\n",
    "plt.ylabel(\"% of Default\", fontsize= 12)\n",
    "plt.ylim(0,0.5)\n",
    "\n",
    "for p in ax.patches:\n",
    "    ax.annotate(\"%.2f\" %(p.get_height()), (p.get_x()+0.25, p.get_height()+0.03),fontsize=13)\n",
    "\n",
    "plt.show()"
   ]
  },
  {
   "cell_type": "markdown",
   "id": "e8d0d0b2",
   "metadata": {},
   "source": [
    "-> Individuals aged between 20 and 25, as well as those above 50, are more prone to default on their credit card payments. In contrast, individuals within other age ranges show lower tendencies for default."
   ]
  },
  {
   "cell_type": "markdown",
   "id": "53fedf43",
   "metadata": {},
   "source": [
    "## 7.6)Amount of given credit in dollars(AMT)"
   ]
  },
  {
   "cell_type": "code",
   "execution_count": null,
   "id": "679324e5",
   "metadata": {},
   "outputs": [],
   "source": [
    "sns.histplot(df['AMT'],bins=30,kde=True)"
   ]
  },
  {
   "cell_type": "code",
   "execution_count": null,
   "id": "fa5e136f",
   "metadata": {},
   "outputs": [],
   "source": [
    "sns.kdeplot(df.loc[(df['DEF_AMT'] == 0), 'AMT'], label = 'No Default', fill = True)\n",
    "sns.kdeplot(df.loc[(df['DEF_AMT'] == 1), 'AMT'], label = 'Default', fill = True)\n",
    "plt.ticklabel_format(style='plain', axis='x') \n",
    "plt.legend()\n",
    "plt.show()"
   ]
  },
  {
   "cell_type": "code",
   "execution_count": null,
   "id": "9a4e2b32",
   "metadata": {},
   "outputs": [],
   "source": [
    "df['AMT'].describe()"
   ]
  },
  {
   "cell_type": "code",
   "execution_count": null,
   "id": "4d11b20d",
   "metadata": {},
   "outputs": [],
   "source": [
    "df['AMT_bin'] = pd.cut(df['AMT'],[5000, 50000, 100000, 150000, 200000, 300000, 400000, 500000, 1100000])\n",
    "print(df['AMT_bin'].value_counts())"
   ]
  },
  {
   "cell_type": "code",
   "execution_count": null,
   "id": "e0d11a0c",
   "metadata": {},
   "outputs": [],
   "source": [
    "plt.figure(figsize=(14,4))\n",
    "\n",
    "df['AMT_bin'] = df['AMT_bin'].astype('str')\n",
    "LimitBin_order = ['(5000, 50000]', '(50000, 100000]', '(100000, 150000]', '(150000, 200000]',\n",
    "                '(200000, 300000]', '(300000, 400000]', '(400000, 500000]', '(500000, 1100000]']\n",
    "\n",
    "ax = sns.countplot(data = df, x = 'AMT_bin', hue=\"DEF_AMT\", palette = 'rocket', order = LimitBin_order)\n",
    "\n",
    "plt.xlabel(\"Amount of Given Credit\", fontsize= 12)\n",
    "plt.ylabel(\"Number of Clients\", fontsize= 12)\n",
    "plt.ylim(0,8000)\n",
    "ax.tick_params(axis=\"x\", labelsize= 9.5)\n",
    "\n",
    "for p in ax.patches:\n",
    "    ax.annotate((p.get_height()), (p.get_x()+0.075, p.get_height()+300))\n",
    "\n",
    "plt.show()"
   ]
  },
  {
   "cell_type": "code",
   "execution_count": null,
   "id": "0a8cb75c",
   "metadata": {},
   "outputs": [],
   "source": [
    "plt.figure(figsize=(14,4))\n",
    "\n",
    "ax = sns.barplot(x = \"AMT_bin\", y = \"DEF_AMT\", data = df, palette = 'rocket', order = LimitBin_order)\n",
    "\n",
    "plt.xlabel(\"Amount of Given Credit\", fontsize= 12)\n",
    "plt.ylabel(\"% of Default\", fontsize= 12)\n",
    "plt.ylim(0,0.5)\n",
    "\n",
    "for p in ax.patches:\n",
    "    ax.annotate(\"%.2f\" %(p.get_height()), (p.get_x()+0.25, p.get_height()+0.03),fontsize=13)\n",
    "\n",
    "plt.show()"
   ]
  },
  {
   "cell_type": "markdown",
   "id": "fb654251",
   "metadata": {},
   "source": [
    "-> There is a significant rate of default (over 30%) from customers with 50k or less of credit limit.          \n",
    "-> Nearly 60 percent of defaulters have lower credit limits, specifically under 100k NT dollars.          \n",
    "-> The higher the limit, the lower is the chance of defaulting."
   ]
  },
  {
   "cell_type": "code",
   "execution_count": null,
   "id": "35210a96",
   "metadata": {
    "scrolled": true
   },
   "outputs": [],
   "source": [
    "df.head()"
   ]
  },
  {
   "cell_type": "code",
   "execution_count": null,
   "id": "659fadc9",
   "metadata": {
    "scrolled": true
   },
   "outputs": [],
   "source": [
    "df.info()"
   ]
  },
  {
   "cell_type": "code",
   "execution_count": null,
   "id": "5718a00c",
   "metadata": {},
   "outputs": [],
   "source": [
    "df = df.astype({\"AMT\":\"float64\"})\n",
    "df.info()"
   ]
  },
  {
   "cell_type": "code",
   "execution_count": null,
   "id": "f27f7b3e",
   "metadata": {},
   "outputs": [],
   "source": [
    "# Group by and calculate mean for each category\n",
    "mean_by_GENDER = df.groupby('GENDER')['AMT'].mean()\n",
    "mean_by_education = df.groupby('EDUCATION')['AMT'].mean()\n",
    "mean_by_MARITAL_STATUS = df.groupby('MARITAL STATUS')['AMT'].mean()\n",
    "mean_by_age_bin = df.groupby('AgeBin')['AMT'].mean()\n",
    "\n",
    "\n",
    "print(\"Mean LIMIT_BAL by SEX:\")\n",
    "print(mean_by_GENDER)\n",
    "\n",
    "print('----------------------')\n",
    "print(\"\\nMean LIMIT_BAL by EDUCATION:\")\n",
    "print(mean_by_education)\n",
    "\n",
    "print('----------------------')\n",
    "print(\"\\nMean LIMIT_BAL by MARRIAGE:\")\n",
    "print(mean_by_MARITAL_STATUS)\n",
    "\n",
    "print('----------------------')\n",
    "print(\"\\nMean LIMIT_BAL by AGE_BIN:\")\n",
    "print(mean_by_age_bin)"
   ]
  },
  {
   "cell_type": "code",
   "execution_count": null,
   "id": "e11dc90b",
   "metadata": {},
   "outputs": [],
   "source": [
    "plt.figure(figsize=(15, 20))\n",
    "\n",
    "plt.subplot(4, 1, 1)\n",
    "sns.boxplot(x=\"MARITAL STATUS\", y=\"AMT\", data=df, palette='rocket', showmeans=True,\n",
    "            meanprops={\"markerfacecolor\": \"red\", \"markeredgecolor\": \"black\", \"markersize\": \"10\"})\n",
    "plt.ticklabel_format(style='plain', axis='y')\n",
    "plt.xticks([0, 1, 2], ['Married', 'Single', 'Others'], fontsize=11)\n",
    "\n",
    "\n",
    "plt.subplot(4, 1, 2)\n",
    "sns.boxplot(x=\"EDUCATION\", y=\"AMT\", data=df, palette='rocket', showmeans=True,\n",
    "            meanprops={\"markerfacecolor\": \"red\", \"markeredgecolor\": \"black\", \"markersize\": \"10\"})\n",
    "plt.ticklabel_format(style='plain', axis='y')\n",
    "plt.xticks([0, 1, 2, 3], ['Grad School', 'University', 'High School', 'Others'], fontsize=11)\n",
    "\n",
    "\n",
    "plt.subplot(4, 1, 3)\n",
    "sns.boxplot(x=\"GENDER\", y=\"AMT\", data=df, palette='rocket', showmeans=True,\n",
    "            meanprops={\"markerfacecolor\": \"red\", \"markeredgecolor\": \"black\", \"markersize\": \"10\"})\n",
    "plt.ticklabel_format(style='plain', axis='y')\n",
    "plt.xticks([0, 1], ['Male', 'Female'], fontsize=12)\n",
    "\n",
    "plt.subplot(4, 1, 4)\n",
    "sns.boxplot(x=\"AgeBin\", y=\"AMT\", data=df, palette='rocket', showmeans=True, order=AgeBin_order,\n",
    "            meanprops={\"markerfacecolor\": \"red\", \"markeredgecolor\": \"black\", \"markersize\": \"10\"})\n",
    "plt.ticklabel_format(style='plain', axis='y')\n",
    "plt.xlabel(\"Age Group\", fontsize=12)\n",
    "\n",
    "plt.tight_layout()\n",
    "plt.show()"
   ]
  },
  {
   "cell_type": "code",
   "execution_count": null,
   "id": "fda6584d",
   "metadata": {},
   "outputs": [],
   "source": [
    "plt.figure(figsize=(12, 18))\n",
    "\n",
    "# Subplot for AgeBin\n",
    "plt.subplot(3, 1, 1)\n",
    "sns.boxplot(x=\"AgeBin\", y=\"AMT\", hue='GENDER', data=df, palette='rocket', showmeans=True,\n",
    "            meanprops={\"markerfacecolor\": \"red\", \"markeredgecolor\": \"black\", \"markersize\": \"10\"})\n",
    "plt.ticklabel_format(style='plain', axis='y')\n",
    "\n",
    "\n",
    "# Subplot for Marriage\n",
    "plt.subplot(3, 1, 2)\n",
    "sns.boxplot(x=\"MARITAL STATUS\", y=\"AMT\", hue='GENDER', data=df, palette='rocket', showmeans=True,\n",
    "            meanprops={\"markerfacecolor\": \"red\", \"markeredgecolor\": \"black\", \"markersize\": \"10\"})\n",
    "plt.ticklabel_format(style='plain', axis='y')\n",
    "plt.xticks([0, 1, 2], ['Married', 'Single','Others'], fontsize=11)\n",
    "\n",
    "\n",
    "# Subplot for Education\n",
    "plt.subplot(3, 1, 3)\n",
    "sns.boxplot(x=\"EDUCATION\", y=\"AMT\", hue='GENDER', data=df, palette='rocket', showmeans=True,\n",
    "            meanprops={\"markerfacecolor\": \"red\", \"markeredgecolor\": \"black\", \"markersize\": \"10\"})\n",
    "plt.ticklabel_format(style='plain', axis='y')\n",
    "plt.xticks([0, 1, 2, 3], ['Grad School', 'University', 'High School', 'Others'], fontsize=11)\n",
    "\n",
    "\n",
    "plt.tight_layout()\n",
    "plt.show()"
   ]
  },
  {
   "cell_type": "markdown",
   "id": "6267f232",
   "metadata": {},
   "source": [
    "The average given credit for women was slightly higher than for men. That still holds up for several combinations of categories, except among customers that:\n",
    "\n",
    "Have a grad school diploma;\n",
    "Are married;\n",
    "Are 50+ years old."
   ]
  },
  {
   "cell_type": "markdown",
   "id": "3764ff5d",
   "metadata": {},
   "source": [
    "## Correlation Analysis"
   ]
  },
  {
   "cell_type": "code",
   "execution_count": null,
   "id": "4b296518",
   "metadata": {},
   "outputs": [],
   "source": [
    "cor= df.corr()\n",
    "cor"
   ]
  },
  {
   "cell_type": "code",
   "execution_count": null,
   "id": "0a4b601f",
   "metadata": {
    "scrolled": true
   },
   "outputs": [],
   "source": [
    "#plotting the correlations on the heatmap\n",
    "plt.figure(figsize=(25,8))\n",
    "sns.heatmap(cor, cmap=\"rainbow\", annot=True)\n",
    "plt.show()"
   ]
  },
  {
   "cell_type": "markdown",
   "id": "977b9967",
   "metadata": {},
   "source": [
    "-> The heatmat shows that features are correlated with each other (collinearity), such us like PAY_0,2,3,4,5,6 and BILL_AMT1,2,3,4,5,6. In those cases, the correlation is positive."
   ]
  },
  {
   "cell_type": "markdown",
   "id": "71e1132c",
   "metadata": {},
   "source": [
    "# 8) Analysis Summary"
   ]
  },
  {
   "cell_type": "markdown",
   "id": "831439c6",
   "metadata": {},
   "source": [
    "The following is the behaviour of dataset columns with default column:\n",
    "\n",
    "Repayment Behavior:\n",
    "\n",
    "Individuals with a history of payment delays for more than 4 months have a significantly high chance of default, approximately 70%.\n",
    "\n",
    "Bill Statement:\n",
    "\n",
    "Individuals with negative bill statements (credit balance) are less likely to default\n",
    "\n",
    "Previous Payment Amounts:\n",
    "\n",
    "Individuals with very low previous payment amounts, nearly 0, have a higher likelihood of default, around 30%.\n",
    "\n",
    "Education Level:\n",
    "\n",
    "As the education level decreases, the limit balance also decreases, and the chance of default increases\n",
    "\n",
    "Marital Status:\n",
    "\n",
    "Individuals with marital status \"Others\" (possibly divorced) have a notably higher chance of default, approximately 30\n",
    "\n",
    "Age Group:\n",
    "\n",
    "People belonging to the age group of 20 to 25 and above 50 have a higher likelihood of default, around 27%.\n",
    "\n",
    "Credit Limit:\n",
    "\n",
    "Individuals with higher credit limits are less prone to default, while those with credit limits below 50k dollars have a high likelihood of default, almost 32%"
   ]
  }
 ],
 "metadata": {
  "kernelspec": {
   "display_name": "Python 3 (ipykernel)",
   "language": "python",
   "name": "python3"
  },
  "language_info": {
   "codemirror_mode": {
    "name": "ipython",
    "version": 3
   },
   "file_extension": ".py",
   "mimetype": "text/x-python",
   "name": "python",
   "nbconvert_exporter": "python",
   "pygments_lexer": "ipython3",
   "version": "3.9.13"
  }
 },
 "nbformat": 4,
 "nbformat_minor": 5
}
