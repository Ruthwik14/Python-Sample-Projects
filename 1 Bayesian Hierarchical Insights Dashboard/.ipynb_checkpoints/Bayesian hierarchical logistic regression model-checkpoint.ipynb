{
 "cells": [
  {
   "cell_type": "markdown",
   "id": "369dee1b-56b7-43f9-a2b7-a3ec8c02f6ee",
   "metadata": {},
   "source": [
    "## USA DataSet"
   ]
  },
  {
   "cell_type": "code",
   "execution_count": null,
   "id": "fea1fae1-9f66-49e9-9659-62f4ac1fb961",
   "metadata": {
    "execution": {
     "iopub.execute_input": "2025-06-14T09:22:52.325503Z",
     "iopub.status.busy": "2025-06-14T09:22:52.325503Z"
    }
   },
   "outputs": [
    {
     "name": "stdout",
     "output_type": "stream",
     "text": [
      "\n",
      "📍 Processing: California\n",
      "  ➤ Analyzing: which_party_or_candidate_do_you_currently_intend_to_vote_for_in_the_upcoming_election\n"
     ]
    },
    {
     "name": "stderr",
     "output_type": "stream",
     "text": [
      "Initializing NUTS using jitter+adapt_diag...\n",
      "Multiprocess sampling (4 chains in 4 jobs)\n",
      "NUTS: [sigma_state, a_state, sigma_age, a_age, sigma_gender, a_gender, sigma_ethnicity, a_ethnicity, sigma_what_is_the_highest_level_of_education_you_have_completed, a_what_is_the_highest_level_of_education_you_have_completed, sigma_what_is_your_current_occupation_or_job_title, a_what_is_your_current_occupation_or_job_title, sigma_what_is_your_total_monthly_household_income_before_tax_select_range, a_what_is_your_total_monthly_household_income_before_tax_select_range, a]\n"
     ]
    }
   ],
   "source": [
    "# 📦 Install required libraries (Run this cell only once)\n",
    "# Uncomment below if not already installed\n",
    "# %pip install pymc arviz openpyxl\n",
    "\n",
    "# 📁 Import necessary libraries\n",
    "import pandas as pd\n",
    "import numpy as np\n",
    "import pymc as pm\n",
    "import arviz as az\n",
    "import warnings\n",
    "from sklearn.preprocessing import LabelEncoder\n",
    "\n",
    "warnings.filterwarnings(\"ignore\")\n",
    "\n",
    "# 📂 Load Excel file manually\n",
    "file_name = 'usa_statewise_survey.xlsx'  # 🔁 Change this to match your file name\n",
    "df = pd.read_excel(file_name)\n",
    "df.columns = df.columns.str.strip().str.lower().str.replace(' ', '_').str.replace(r'[^\\w\\s]', '', regex=True)\n",
    "\n",
    "# 🧹 Clean NA\n",
    "df.dropna(inplace=True)\n",
    "\n",
    "# 👥 Define demographics (adjust based on your dataset)\n",
    "demographics = [\n",
    "    'state', 'age', 'gender', 'ethnicity',\n",
    "    'what_is_the_highest_level_of_education_you_have_completed',\n",
    "    'what_is_your_current_occupation_or_job_title',\n",
    "    'what_is_your_total_monthly_household_income_before_tax_select_range'\n",
    "]\n",
    "demographics = [col for col in demographics if col in df.columns]\n",
    "\n",
    "# 🎯 Survey questions (exclude demographics and state)\n",
    "question_columns = [col for col in df.columns if col not in demographics + ['state']]\n",
    "\n",
    "# 🔁 Softmax function\n",
    "def softmax(x):\n",
    "    e_x = np.exp(x - np.max(x))\n",
    "    return e_x / e_x.sum()\n",
    "\n",
    "# 📊 Store all results\n",
    "all_results = []\n",
    "\n",
    "# 🔁 Loop through US states\n",
    "for state in df['state'].unique():\n",
    "    df_state = df[df['state'] == state].copy()\n",
    "    print(f\"\\n📍 Processing: {state}\")\n",
    "\n",
    "    # Encode demographics\n",
    "    demo_codes = {}\n",
    "    demo_cats = {}\n",
    "    for col in demographics:\n",
    "        cat = pd.Categorical(df_state[col].astype(str).str.strip())\n",
    "        df_state[f\"{col}_code\"] = cat.codes\n",
    "        demo_codes[col] = df_state[f\"{col}_code\"].values\n",
    "        demo_cats[col] = cat\n",
    "\n",
    "    # 🔄 Loop through survey questions\n",
    "    for question in question_columns:\n",
    "        print(f\"  ➤ Analyzing: {question}\")\n",
    "        try:\n",
    "            # Encode target\n",
    "            target = df_state[question].astype(str).str.strip().str.upper()\n",
    "            target_cat = pd.Categorical(target)\n",
    "            df_state['target_code'] = target_cat.codes\n",
    "            n_options = len(target_cat.categories)\n",
    "\n",
    "            with pm.Model() as model:\n",
    "                # Priors for demographic effects\n",
    "                sigmas = {}\n",
    "                a_demos = {}\n",
    "                for col in demographics:\n",
    "                    sigmas[col] = pm.HalfNormal(f\"sigma_{col}\", sigma=1)\n",
    "                    a_demos[col] = pm.Normal(\n",
    "                        f\"a_{col}\", mu=0, sigma=sigmas[col],\n",
    "                        shape=(len(demo_cats[col].categories), n_options)\n",
    "                    )\n",
    "\n",
    "                # Global intercept\n",
    "                a = pm.Normal(\"a\", mu=0, sigma=1, shape=n_options)\n",
    "                demo_effects = sum(a_demos[col][demo_codes[col]] for col in demographics)\n",
    "                logits = a + demo_effects\n",
    "\n",
    "                # Likelihood\n",
    "                y_obs = pm.Categorical(\"y_obs\", logit_p=logits, observed=df_state['target_code'])\n",
    "\n",
    "                # Sampling\n",
    "                trace = pm.sample(500, tune=100, target_accept=0.95, random_seed=42, progressbar=False)\n",
    "\n",
    "            # Posterior processing\n",
    "            posterior_samples = trace.posterior\n",
    "            logits_samples = posterior_samples[\"a\"].stack(sample=(\"chain\", \"draw\")).values.T\n",
    "            probabilities = np.apply_along_axis(softmax, 1, logits_samples)\n",
    "\n",
    "            mean_probs = probabilities.mean(axis=0)\n",
    "            std_probs = probabilities.std(axis=0)\n",
    "            winning_party_indices = np.argmax(probabilities, axis=1)\n",
    "            winning_counts = np.bincount(winning_party_indices, minlength=n_options)\n",
    "            winning_probabilities = winning_counts / probabilities.shape[0]\n",
    "\n",
    "            # Save results\n",
    "            df_result = pd.DataFrame({\n",
    "                'state': [state] * n_options,\n",
    "                'question': [question] * n_options,\n",
    "                'option': target_cat.categories,\n",
    "                'support_percentage': np.round(mean_probs * 100, 2),\n",
    "                'fluctuation': np.round(std_probs * 100, 2),\n",
    "                'support_range': [\n",
    "                    f\"{np.round((mean_probs[i] - std_probs[i]) * 100, 2)}% – {np.round((mean_probs[i] + std_probs[i]) * 100, 2)}%\"\n",
    "                    for i in range(n_options)\n",
    "                ],\n",
    "                'win_probability': np.round(winning_probabilities * 100, 2)\n",
    "            })\n",
    "\n",
    "            all_results.append(df_result)\n",
    "\n",
    "        except Exception as e:\n",
    "            print(f\"    ⚠️ Skipped '{question}' due to: {e}\")\n",
    "\n",
    "# ✅ Combine and export\n",
    "final_df = pd.concat(all_results, ignore_index=True)\n",
    "final_df.to_excel(\"usa_survey_bayesian_results.xlsx\", index=False)\n",
    "print(\"\\n✅ Results saved to 'usa_survey_bayesian_results.xlsx'\")\n"
   ]
  },
  {
   "cell_type": "code",
   "execution_count": null,
   "id": "2098db47-f20c-4e55-b9eb-e40fb27620d8",
   "metadata": {},
   "outputs": [],
   "source": []
  },
  {
   "cell_type": "code",
   "execution_count": null,
   "id": "8e52c59f-3a79-4bbb-b573-d81c264899c7",
   "metadata": {},
   "outputs": [],
   "source": []
  },
  {
   "cell_type": "code",
   "execution_count": null,
   "id": "e11d773d-9fd1-411f-befc-8f283bfb92fe",
   "metadata": {},
   "outputs": [],
   "source": []
  },
  {
   "cell_type": "code",
   "execution_count": null,
   "id": "a6cd94dc-a032-49b3-b496-1315f600485f",
   "metadata": {},
   "outputs": [],
   "source": []
  }
 ],
 "metadata": {
  "kernelspec": {
   "display_name": "Python 3 (ipykernel)",
   "language": "python",
   "name": "python3"
  },
  "language_info": {
   "codemirror_mode": {
    "name": "ipython",
    "version": 3
   },
   "file_extension": ".py",
   "mimetype": "text/x-python",
   "name": "python",
   "nbconvert_exporter": "python",
   "pygments_lexer": "ipython3",
   "version": "3.12.4"
  },
  "panel-cell-order": [
   "95a05c90-c006-416c-a4c0-58df51d94687",
   "96bfe5ae-0796-413d-ab9a-e0c1aaa29bff",
   "3562c132-5b3e-4905-b8cd-4b86e1ad6081",
   "c13abc5e-46d0-4f7e-875c-86f24fb2d5b4",
   "dd79ca98-ad81-41e3-93fc-3cff94a6757e"
  ]
 },
 "nbformat": 4,
 "nbformat_minor": 5
}
